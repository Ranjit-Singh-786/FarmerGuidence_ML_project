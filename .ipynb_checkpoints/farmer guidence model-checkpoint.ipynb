{
 "cells": [
  {
   "cell_type": "markdown",
   "id": "e31f072a",
   "metadata": {},
   "source": [
    ">>> # farmer Guidencence model"
   ]
  },
  {
   "cell_type": "code",
   "execution_count": 1,
   "id": "e1f66b37",
   "metadata": {},
   "outputs": [],
   "source": [
    "import pandas as pd\n",
    "import numpy as np"
   ]
  },
  {
   "cell_type": "code",
   "execution_count": 2,
   "id": "4678d123",
   "metadata": {},
   "outputs": [
    {
     "data": {
      "text/html": [
       "<div>\n",
       "<style scoped>\n",
       "    .dataframe tbody tr th:only-of-type {\n",
       "        vertical-align: middle;\n",
       "    }\n",
       "\n",
       "    .dataframe tbody tr th {\n",
       "        vertical-align: top;\n",
       "    }\n",
       "\n",
       "    .dataframe thead th {\n",
       "        text-align: right;\n",
       "    }\n",
       "</style>\n",
       "<table border=\"1\" class=\"dataframe\">\n",
       "  <thead>\n",
       "    <tr style=\"text-align: right;\">\n",
       "      <th></th>\n",
       "      <th>N</th>\n",
       "      <th>P</th>\n",
       "      <th>K</th>\n",
       "      <th>temperature</th>\n",
       "      <th>humidity</th>\n",
       "      <th>ph</th>\n",
       "      <th>rainfall</th>\n",
       "      <th>label</th>\n",
       "    </tr>\n",
       "  </thead>\n",
       "  <tbody>\n",
       "    <tr>\n",
       "      <th>0</th>\n",
       "      <td>90</td>\n",
       "      <td>42</td>\n",
       "      <td>43</td>\n",
       "      <td>20.879744</td>\n",
       "      <td>82.002744</td>\n",
       "      <td>6.502985</td>\n",
       "      <td>202.935536</td>\n",
       "      <td>rice</td>\n",
       "    </tr>\n",
       "    <tr>\n",
       "      <th>1</th>\n",
       "      <td>85</td>\n",
       "      <td>58</td>\n",
       "      <td>41</td>\n",
       "      <td>21.770462</td>\n",
       "      <td>80.319644</td>\n",
       "      <td>7.038096</td>\n",
       "      <td>226.655537</td>\n",
       "      <td>rice</td>\n",
       "    </tr>\n",
       "    <tr>\n",
       "      <th>2</th>\n",
       "      <td>60</td>\n",
       "      <td>55</td>\n",
       "      <td>44</td>\n",
       "      <td>23.004459</td>\n",
       "      <td>82.320763</td>\n",
       "      <td>7.840207</td>\n",
       "      <td>263.964248</td>\n",
       "      <td>rice</td>\n",
       "    </tr>\n",
       "    <tr>\n",
       "      <th>3</th>\n",
       "      <td>74</td>\n",
       "      <td>35</td>\n",
       "      <td>40</td>\n",
       "      <td>26.491096</td>\n",
       "      <td>80.158363</td>\n",
       "      <td>6.980401</td>\n",
       "      <td>242.864034</td>\n",
       "      <td>rice</td>\n",
       "    </tr>\n",
       "    <tr>\n",
       "      <th>4</th>\n",
       "      <td>78</td>\n",
       "      <td>42</td>\n",
       "      <td>42</td>\n",
       "      <td>20.130175</td>\n",
       "      <td>81.604873</td>\n",
       "      <td>7.628473</td>\n",
       "      <td>262.717340</td>\n",
       "      <td>rice</td>\n",
       "    </tr>\n",
       "  </tbody>\n",
       "</table>\n",
       "</div>"
      ],
      "text/plain": [
       "    N   P   K  temperature   humidity        ph    rainfall label\n",
       "0  90  42  43    20.879744  82.002744  6.502985  202.935536  rice\n",
       "1  85  58  41    21.770462  80.319644  7.038096  226.655537  rice\n",
       "2  60  55  44    23.004459  82.320763  7.840207  263.964248  rice\n",
       "3  74  35  40    26.491096  80.158363  6.980401  242.864034  rice\n",
       "4  78  42  42    20.130175  81.604873  7.628473  262.717340  rice"
      ]
     },
     "execution_count": 2,
     "metadata": {},
     "output_type": "execute_result"
    }
   ],
   "source": [
    "data=pd.read_csv('farmer.csv')\n",
    "data.head()"
   ]
  },
  {
   "cell_type": "code",
   "execution_count": 3,
   "id": "8b386204",
   "metadata": {},
   "outputs": [
    {
     "data": {
      "text/plain": [
       "maize          100\n",
       "cotton         100\n",
       "mothbeans      100\n",
       "jute           100\n",
       "kidneybeans    100\n",
       "mango          100\n",
       "orange         100\n",
       "grapes         100\n",
       "coconut        100\n",
       "lentil         100\n",
       "muskmelon      100\n",
       "watermelon     100\n",
       "coffee         100\n",
       "pomegranate    100\n",
       "blackgram      100\n",
       "papaya         100\n",
       "banana         100\n",
       "apple          100\n",
       "chickpea       100\n",
       "pigeonpeas     100\n",
       "mungbean       100\n",
       "rice           100\n",
       "Name: label, dtype: int64"
      ]
     },
     "execution_count": 3,
     "metadata": {},
     "output_type": "execute_result"
    }
   ],
   "source": [
    "data['label'].value_counts()"
   ]
  },
  {
   "cell_type": "code",
   "execution_count": 4,
   "id": "899b8f83",
   "metadata": {},
   "outputs": [
    {
     "data": {
      "text/plain": [
       "N              0\n",
       "P              0\n",
       "K              0\n",
       "temperature    0\n",
       "humidity       0\n",
       "ph             0\n",
       "rainfall       0\n",
       "label          0\n",
       "dtype: int64"
      ]
     },
     "execution_count": 4,
     "metadata": {},
     "output_type": "execute_result"
    }
   ],
   "source": [
    "data.isnull().sum()"
   ]
  },
  {
   "cell_type": "code",
   "execution_count": 5,
   "id": "1142b2c3",
   "metadata": {},
   "outputs": [],
   "source": [
    "x=data.drop(columns=['label'],axis=1)\n",
    "y=data[['label']]"
   ]
  },
  {
   "cell_type": "code",
   "execution_count": 6,
   "id": "c8c3afb7",
   "metadata": {},
   "outputs": [],
   "source": [
    "from sklearn.model_selection import train_test_split"
   ]
  },
  {
   "cell_type": "code",
   "execution_count": 7,
   "id": "7ac4a942",
   "metadata": {},
   "outputs": [],
   "source": [
    "x_train,x_test,y_train,y_test=train_test_split(x,y,test_size=0.2,random_state=31)"
   ]
  },
  {
   "cell_type": "code",
   "execution_count": 8,
   "id": "45685a06",
   "metadata": {},
   "outputs": [
    {
     "data": {
      "text/plain": [
       "((440, 1), (1760, 1))"
      ]
     },
     "execution_count": 8,
     "metadata": {},
     "output_type": "execute_result"
    }
   ],
   "source": [
    "y_test.shape,y_train.shape"
   ]
  },
  {
   "cell_type": "code",
   "execution_count": null,
   "id": "bda77c35",
   "metadata": {},
   "outputs": [],
   "source": []
  },
  {
   "cell_type": "code",
   "execution_count": 9,
   "id": "ed019b4f",
   "metadata": {},
   "outputs": [],
   "source": [
    "from sklearn.linear_model import LogisticRegression"
   ]
  },
  {
   "cell_type": "code",
   "execution_count": 10,
   "id": "f5fb322a",
   "metadata": {},
   "outputs": [],
   "source": [
    "lr=LogisticRegression()"
   ]
  },
  {
   "cell_type": "code",
   "execution_count": 11,
   "id": "d8ce0820",
   "metadata": {},
   "outputs": [
    {
     "name": "stderr",
     "output_type": "stream",
     "text": [
      "c:\\users\\dell\\appdata\\local\\programs\\python\\python39\\lib\\site-packages\\sklearn\\utils\\validation.py:63: DataConversionWarning: A column-vector y was passed when a 1d array was expected. Please change the shape of y to (n_samples, ), for example using ravel().\n",
      "  return f(*args, **kwargs)\n",
      "c:\\users\\dell\\appdata\\local\\programs\\python\\python39\\lib\\site-packages\\sklearn\\linear_model\\_logistic.py:763: ConvergenceWarning: lbfgs failed to converge (status=1):\n",
      "STOP: TOTAL NO. of ITERATIONS REACHED LIMIT.\n",
      "\n",
      "Increase the number of iterations (max_iter) or scale the data as shown in:\n",
      "    https://scikit-learn.org/stable/modules/preprocessing.html\n",
      "Please also refer to the documentation for alternative solver options:\n",
      "    https://scikit-learn.org/stable/modules/linear_model.html#logistic-regression\n",
      "  n_iter_i = _check_optimize_result(\n"
     ]
    },
    {
     "data": {
      "text/plain": [
       "LogisticRegression()"
      ]
     },
     "execution_count": 11,
     "metadata": {},
     "output_type": "execute_result"
    }
   ],
   "source": [
    "lr.fit(x_train,y_train)"
   ]
  },
  {
   "cell_type": "code",
   "execution_count": 12,
   "id": "4ce0022e",
   "metadata": {},
   "outputs": [
    {
     "data": {
      "text/plain": [
       "0.9477272727272728"
      ]
     },
     "execution_count": 12,
     "metadata": {},
     "output_type": "execute_result"
    }
   ],
   "source": [
    "lr.score(x_test,y_test)                   # accuracy by using LogisticRegressor"
   ]
  },
  {
   "cell_type": "code",
   "execution_count": 13,
   "id": "6d997b11",
   "metadata": {},
   "outputs": [
    {
     "data": {
      "text/plain": [
       "(440,)"
      ]
     },
     "execution_count": 13,
     "metadata": {},
     "output_type": "execute_result"
    }
   ],
   "source": [
    "lr.predict(x_test).shape"
   ]
  },
  {
   "cell_type": "code",
   "execution_count": 14,
   "id": "ad0ecb0d",
   "metadata": {},
   "outputs": [
    {
     "data": {
      "text/plain": [
       "array(['mango', 'pigeonpeas', 'orange', 'cotton', 'mungbean', 'coconut',\n",
       "       'pigeonpeas', 'maize', 'watermelon', 'mango', 'apple', 'chickpea',\n",
       "       'pomegranate', 'coffee', 'papaya', 'grapes', 'apple', 'coconut',\n",
       "       'papaya', 'rice', 'jute', 'grapes', 'lentil', 'cotton', 'maize',\n",
       "       'coconut', 'pomegranate', 'mango', 'watermelon', 'jute', 'coconut',\n",
       "       'kidneybeans', 'banana', 'coconut', 'rice', 'pomegranate',\n",
       "       'blackgram', 'blackgram', 'pomegranate', 'jute', 'rice', 'lentil',\n",
       "       'papaya', 'pomegranate', 'kidneybeans', 'mungbean', 'chickpea',\n",
       "       'watermelon', 'lentil', 'coconut', 'mango', 'apple', 'grapes',\n",
       "       'blackgram', 'maize', 'muskmelon', 'mungbean', 'muskmelon',\n",
       "       'muskmelon', 'pomegranate', 'kidneybeans', 'lentil', 'rice',\n",
       "       'coconut', 'pigeonpeas', 'rice', 'grapes', 'coconut', 'coffee',\n",
       "       'maize', 'jute', 'pigeonpeas', 'mango', 'rice', 'rice',\n",
       "       'muskmelon', 'rice', 'jute', 'cotton', 'banana', 'coconut',\n",
       "       'mothbeans', 'maize', 'orange', 'mungbean', 'apple', 'papaya',\n",
       "       'papaya', 'jute', 'coconut', 'blackgram', 'orange', 'rice',\n",
       "       'muskmelon', 'chickpea', 'mungbean', 'grapes', 'mungbean',\n",
       "       'coffee', 'papaya', 'mango', 'apple', 'banana', 'cotton', 'cotton',\n",
       "       'rice', 'cotton', 'watermelon', 'pigeonpeas', 'kidneybeans',\n",
       "       'muskmelon', 'lentil', 'watermelon', 'apple', 'watermelon',\n",
       "       'cotton', 'muskmelon', 'apple', 'muskmelon', 'jute', 'mango',\n",
       "       'maize', 'blackgram', 'papaya', 'rice', 'coffee', 'apple',\n",
       "       'coffee', 'lentil', 'kidneybeans', 'lentil', 'cotton', 'grapes',\n",
       "       'mothbeans', 'mango', 'apple', 'chickpea', 'cotton', 'banana',\n",
       "       'pomegranate', 'watermelon', 'chickpea', 'coffee', 'papaya',\n",
       "       'muskmelon', 'banana', 'watermelon', 'coconut', 'muskmelon',\n",
       "       'chickpea', 'apple', 'jute', 'lentil', 'pigeonpeas', 'cotton',\n",
       "       'mango', 'cotton', 'pomegranate', 'pomegranate', 'maize',\n",
       "       'blackgram', 'coffee', 'coconut', 'papaya', 'chickpea',\n",
       "       'pigeonpeas', 'mungbean', 'apple', 'chickpea', 'watermelon',\n",
       "       'watermelon', 'jute', 'rice', 'papaya', 'mothbeans', 'chickpea',\n",
       "       'watermelon', 'banana', 'kidneybeans', 'kidneybeans', 'lentil',\n",
       "       'coconut', 'muskmelon', 'coconut', 'maize', 'kidneybeans',\n",
       "       'pigeonpeas', 'coffee', 'coffee', 'chickpea', 'mungbean', 'banana',\n",
       "       'pomegranate', 'watermelon', 'jute', 'banana', 'coconut', 'maize',\n",
       "       'lentil', 'watermelon', 'chickpea', 'jute', 'mungbean', 'lentil',\n",
       "       'papaya', 'watermelon', 'jute', 'rice', 'jute', 'watermelon',\n",
       "       'muskmelon', 'banana', 'mango', 'cotton', 'apple', 'watermelon',\n",
       "       'kidneybeans', 'watermelon', 'apple', 'lentil', 'maize', 'coffee',\n",
       "       'apple', 'grapes', 'chickpea', 'muskmelon', 'apple', 'banana',\n",
       "       'watermelon', 'coffee', 'muskmelon', 'banana', 'kidneybeans',\n",
       "       'lentil', 'jute', 'maize', 'pomegranate', 'grapes', 'coffee',\n",
       "       'kidneybeans', 'orange', 'cotton', 'chickpea', 'rice', 'jute',\n",
       "       'jute', 'orange', 'maize', 'pigeonpeas', 'maize', 'coffee',\n",
       "       'mungbean', 'coffee', 'rice', 'orange', 'jute', 'mothbeans',\n",
       "       'maize', 'lentil', 'banana', 'mothbeans', 'maize', 'lentil',\n",
       "       'mungbean', 'watermelon', 'coconut', 'lentil', 'blackgram',\n",
       "       'coconut', 'muskmelon', 'grapes', 'grapes', 'apple', 'pomegranate',\n",
       "       'blackgram', 'chickpea', 'jute', 'kidneybeans', 'blackgram',\n",
       "       'lentil', 'papaya', 'lentil', 'coconut', 'muskmelon', 'blackgram',\n",
       "       'pigeonpeas', 'muskmelon', 'mungbean', 'coffee', 'jute',\n",
       "       'watermelon', 'maize', 'coconut', 'papaya', 'coconut', 'mothbeans',\n",
       "       'orange', 'pigeonpeas', 'maize', 'apple', 'mothbeans', 'blackgram',\n",
       "       'orange', 'lentil', 'apple', 'mango', 'apple', 'kidneybeans',\n",
       "       'chickpea', 'pigeonpeas', 'chickpea', 'maize', 'mothbeans',\n",
       "       'maize', 'pomegranate', 'coffee', 'maize', 'pigeonpeas', 'mango',\n",
       "       'papaya', 'maize', 'pomegranate', 'orange', 'watermelon', 'banana',\n",
       "       'watermelon', 'jute', 'banana', 'banana', 'coffee', 'mango',\n",
       "       'chickpea', 'mothbeans', 'blackgram', 'banana', 'pigeonpeas',\n",
       "       'mothbeans', 'chickpea', 'pomegranate', 'muskmelon', 'rice',\n",
       "       'rice', 'chickpea', 'papaya', 'watermelon', 'jute', 'mango',\n",
       "       'rice', 'orange', 'maize', 'coffee', 'mango', 'papaya',\n",
       "       'muskmelon', 'mango', 'jute', 'coconut', 'watermelon', 'blackgram',\n",
       "       'mungbean', 'mango', 'watermelon', 'chickpea', 'cotton',\n",
       "       'mungbean', 'pigeonpeas', 'mothbeans', 'chickpea', 'mungbean',\n",
       "       'pigeonpeas', 'chickpea', 'mango', 'muskmelon', 'banana', 'apple',\n",
       "       'rice', 'orange', 'cotton', 'pigeonpeas', 'pomegranate',\n",
       "       'watermelon', 'blackgram', 'maize', 'maize', 'grapes',\n",
       "       'pigeonpeas', 'papaya', 'kidneybeans', 'pomegranate', 'coffee',\n",
       "       'papaya', 'banana', 'rice', 'papaya', 'rice', 'blackgram', 'jute',\n",
       "       'mothbeans', 'chickpea', 'kidneybeans', 'pomegranate', 'papaya',\n",
       "       'rice', 'coffee', 'cotton', 'jute', 'mango', 'kidneybeans',\n",
       "       'coconut', 'papaya', 'cotton', 'rice', 'coconut', 'chickpea',\n",
       "       'rice', 'blackgram', 'mungbean', 'jute', 'watermelon', 'chickpea',\n",
       "       'coffee', 'watermelon', 'banana', 'cotton', 'cotton', 'apple',\n",
       "       'mothbeans', 'lentil', 'blackgram', 'chickpea', 'apple',\n",
       "       'pomegranate', 'mungbean', 'coffee', 'banana', 'watermelon',\n",
       "       'papaya', 'coffee', 'mango', 'orange'], dtype=object)"
      ]
     },
     "execution_count": 14,
     "metadata": {},
     "output_type": "execute_result"
    }
   ],
   "source": [
    "y_pred=lr.predict(x_test)\n",
    "y_pred"
   ]
  },
  {
   "cell_type": "code",
   "execution_count": 15,
   "id": "aa8a3931",
   "metadata": {},
   "outputs": [
    {
     "name": "stderr",
     "output_type": "stream",
     "text": [
      "<ipython-input-15-3c076653f3d2>:1: SettingWithCopyWarning: \n",
      "A value is trying to be set on a copy of a slice from a DataFrame.\n",
      "Try using .loc[row_indexer,col_indexer] = value instead\n",
      "\n",
      "See the caveats in the documentation: https://pandas.pydata.org/pandas-docs/stable/user_guide/indexing.html#returning-a-view-versus-a-copy\n",
      "  y_test['predicted_value']=lr.predict(x_test)\n"
     ]
    }
   ],
   "source": [
    "y_test['predicted_value']=lr.predict(x_test)"
   ]
  },
  {
   "cell_type": "code",
   "execution_count": 16,
   "id": "a458817a",
   "metadata": {},
   "outputs": [
    {
     "data": {
      "text/html": [
       "<div>\n",
       "<style scoped>\n",
       "    .dataframe tbody tr th:only-of-type {\n",
       "        vertical-align: middle;\n",
       "    }\n",
       "\n",
       "    .dataframe tbody tr th {\n",
       "        vertical-align: top;\n",
       "    }\n",
       "\n",
       "    .dataframe thead th {\n",
       "        text-align: right;\n",
       "    }\n",
       "</style>\n",
       "<table border=\"1\" class=\"dataframe\">\n",
       "  <thead>\n",
       "    <tr style=\"text-align: right;\">\n",
       "      <th></th>\n",
       "      <th>label</th>\n",
       "      <th>predicted_value</th>\n",
       "    </tr>\n",
       "  </thead>\n",
       "  <tbody>\n",
       "    <tr>\n",
       "      <th>1159</th>\n",
       "      <td>mango</td>\n",
       "      <td>mango</td>\n",
       "    </tr>\n",
       "    <tr>\n",
       "      <th>499</th>\n",
       "      <td>pigeonpeas</td>\n",
       "      <td>pigeonpeas</td>\n",
       "    </tr>\n",
       "    <tr>\n",
       "      <th>1609</th>\n",
       "      <td>orange</td>\n",
       "      <td>orange</td>\n",
       "    </tr>\n",
       "    <tr>\n",
       "      <th>1924</th>\n",
       "      <td>cotton</td>\n",
       "      <td>cotton</td>\n",
       "    </tr>\n",
       "    <tr>\n",
       "      <th>661</th>\n",
       "      <td>mungbean</td>\n",
       "      <td>mungbean</td>\n",
       "    </tr>\n",
       "    <tr>\n",
       "      <th>1839</th>\n",
       "      <td>coconut</td>\n",
       "      <td>coconut</td>\n",
       "    </tr>\n",
       "    <tr>\n",
       "      <th>475</th>\n",
       "      <td>pigeonpeas</td>\n",
       "      <td>pigeonpeas</td>\n",
       "    </tr>\n",
       "    <tr>\n",
       "      <th>141</th>\n",
       "      <td>maize</td>\n",
       "      <td>maize</td>\n",
       "    </tr>\n",
       "    <tr>\n",
       "      <th>1317</th>\n",
       "      <td>watermelon</td>\n",
       "      <td>watermelon</td>\n",
       "    </tr>\n",
       "    <tr>\n",
       "      <th>1107</th>\n",
       "      <td>mango</td>\n",
       "      <td>mango</td>\n",
       "    </tr>\n",
       "    <tr>\n",
       "      <th>1508</th>\n",
       "      <td>apple</td>\n",
       "      <td>apple</td>\n",
       "    </tr>\n",
       "    <tr>\n",
       "      <th>283</th>\n",
       "      <td>chickpea</td>\n",
       "      <td>chickpea</td>\n",
       "    </tr>\n",
       "    <tr>\n",
       "      <th>938</th>\n",
       "      <td>pomegranate</td>\n",
       "      <td>pomegranate</td>\n",
       "    </tr>\n",
       "    <tr>\n",
       "      <th>2129</th>\n",
       "      <td>coffee</td>\n",
       "      <td>coffee</td>\n",
       "    </tr>\n",
       "    <tr>\n",
       "      <th>1755</th>\n",
       "      <td>papaya</td>\n",
       "      <td>papaya</td>\n",
       "    </tr>\n",
       "    <tr>\n",
       "      <th>1293</th>\n",
       "      <td>grapes</td>\n",
       "      <td>grapes</td>\n",
       "    </tr>\n",
       "    <tr>\n",
       "      <th>1504</th>\n",
       "      <td>apple</td>\n",
       "      <td>apple</td>\n",
       "    </tr>\n",
       "    <tr>\n",
       "      <th>1873</th>\n",
       "      <td>coconut</td>\n",
       "      <td>coconut</td>\n",
       "    </tr>\n",
       "    <tr>\n",
       "      <th>1737</th>\n",
       "      <td>papaya</td>\n",
       "      <td>papaya</td>\n",
       "    </tr>\n",
       "    <tr>\n",
       "      <th>67</th>\n",
       "      <td>rice</td>\n",
       "      <td>rice</td>\n",
       "    </tr>\n",
       "  </tbody>\n",
       "</table>\n",
       "</div>"
      ],
      "text/plain": [
       "            label predicted_value\n",
       "1159        mango           mango\n",
       "499    pigeonpeas      pigeonpeas\n",
       "1609       orange          orange\n",
       "1924       cotton          cotton\n",
       "661      mungbean        mungbean\n",
       "1839      coconut         coconut\n",
       "475    pigeonpeas      pigeonpeas\n",
       "141         maize           maize\n",
       "1317   watermelon      watermelon\n",
       "1107        mango           mango\n",
       "1508        apple           apple\n",
       "283      chickpea        chickpea\n",
       "938   pomegranate     pomegranate\n",
       "2129       coffee          coffee\n",
       "1755       papaya          papaya\n",
       "1293       grapes          grapes\n",
       "1504        apple           apple\n",
       "1873      coconut         coconut\n",
       "1737       papaya          papaya\n",
       "67           rice            rice"
      ]
     },
     "execution_count": 16,
     "metadata": {},
     "output_type": "execute_result"
    }
   ],
   "source": [
    "y_test.head(20)"
   ]
  },
  {
   "cell_type": "code",
   "execution_count": 17,
   "id": "6b89ad1d",
   "metadata": {},
   "outputs": [
    {
     "data": {
      "text/plain": [
       "watermelon     29\n",
       "rice           27\n",
       "chickpea       26\n",
       "maize          23\n",
       "coconut        23\n",
       "jute           23\n",
       "papaya         23\n",
       "apple          22\n",
       "coffee         21\n",
       "banana         20\n",
       "mango          20\n",
       "cotton         20\n",
       "muskmelon      20\n",
       "blackgram      19\n",
       "lentil         18\n",
       "pomegranate    18\n",
       "pigeonpeas     17\n",
       "mothbeans      16\n",
       "mungbean       16\n",
       "kidneybeans    16\n",
       "orange         12\n",
       "grapes         11\n",
       "Name: label, dtype: int64"
      ]
     },
     "execution_count": 17,
     "metadata": {},
     "output_type": "execute_result"
    }
   ],
   "source": [
    "y_test['label'].value_counts()"
   ]
  },
  {
   "cell_type": "code",
   "execution_count": 18,
   "id": "45963b6a",
   "metadata": {},
   "outputs": [
    {
     "data": {
      "text/plain": [
       "watermelon     29\n",
       "chickpea       26\n",
       "jute           25\n",
       "maize          24\n",
       "rice           24\n",
       "coconut        23\n",
       "coffee         23\n",
       "papaya         22\n",
       "apple          22\n",
       "banana         20\n",
       "mango          20\n",
       "muskmelon      20\n",
       "lentil         20\n",
       "cotton         19\n",
       "pomegranate    19\n",
       "pigeonpeas     18\n",
       "mungbean       17\n",
       "blackgram      17\n",
       "kidneybeans    16\n",
       "mothbeans      13\n",
       "orange         12\n",
       "grapes         11\n",
       "Name: predicted_value, dtype: int64"
      ]
     },
     "execution_count": 18,
     "metadata": {},
     "output_type": "execute_result"
    }
   ],
   "source": [
    "y_test['predicted_value'].value_counts()"
   ]
  },
  {
   "cell_type": "code",
   "execution_count": 21,
   "id": "a12d5551",
   "metadata": {},
   "outputs": [],
   "source": [
    "import matplotlib.pyplot as plt"
   ]
  },
  {
   "cell_type": "code",
   "execution_count": 22,
   "id": "4e08b2e0",
   "metadata": {},
   "outputs": [
    {
     "data": {
      "text/plain": [
       "Text(0.5, 1.0, 'for original value')"
      ]
     },
     "execution_count": 22,
     "metadata": {},
     "output_type": "execute_result"
    },
    {
     "data": {
      "image/png": "[encoded data removed]",
      "text/plain": [
       "<Figure size 432x288 with 1 Axes>"
      ]
     },
     "metadata": {
      "needs_background": "light"
     },
     "output_type": "display_data"
    }
   ],
   "source": [
    "plt.bar(list(y_test['label'].value_counts().keys()),list(y_test['label'].value_counts().values))\n",
    "plt.title('for original value')"
   ]
  },
  {
   "cell_type": "code",
   "execution_count": 23,
   "id": "63ae0b84",
   "metadata": {},
   "outputs": [
    {
     "data": {
      "text/plain": [
       "Text(0.5, 1.0, 'for predicted  value')"
      ]
     },
     "execution_count": 23,
     "metadata": {},
     "output_type": "execute_result"
    },
    {
     "data": {
      "image/png": "[encoded data removed]",
      "text/plain": [
       "<Figure size 432x288 with 1 Axes>"
      ]
     },
     "metadata": {
      "needs_background": "light"
     },
     "output_type": "display_data"
    }
   ],
   "source": [
    "plt.bar(list(y_test['predicted_value'].value_counts().keys()),list(y_test['predicted_value'].value_counts().values))\n",
    "plt.title('for predicted  value')"
   ]
  },
  {
   "cell_type": "code",
   "execution_count": 24,
   "id": "302bce19",
   "metadata": {},
   "outputs": [
    {
     "data": {
      "text/plain": [
       "<matplotlib.collections.PathCollection at 0x1c260b1d580>"
      ]
     },
     "execution_count": 24,
     "metadata": {},
     "output_type": "execute_result"
    },
    {
     "data": {
      "image/png": "[encoded data removed]",
      "text/plain": [
       "<Figure size 432x288 with 1 Axes>"
      ]
     },
     "metadata": {
      "needs_background": "light"
     },
     "output_type": "display_data"
    }
   ],
   "source": [
    "plt.scatter(list(y_test['label'].value_counts().values),list(y_test['predicted_value'].value_counts().values))"
   ]
  },
  {
   "cell_type": "code",
   "execution_count": 25,
   "id": "0ddb1a78",
   "metadata": {},
   "outputs": [],
   "source": [
    "x=data.drop(columns=['label'],axis=1)\n",
    "y=data[['label']]"
   ]
  },
  {
   "cell_type": "code",
   "execution_count": 26,
   "id": "44312037",
   "metadata": {},
   "outputs": [],
   "source": [
    "x_train,x_test,y_train,y_test=train_test_split(x,y,test_size=0.2,random_state=31)"
   ]
  },
  {
   "cell_type": "code",
   "execution_count": 27,
   "id": "e451f907",
   "metadata": {},
   "outputs": [],
   "source": [
    "from sklearn.ensemble import RandomForestClassifier"
   ]
  },
  {
   "cell_type": "code",
   "execution_count": 28,
   "id": "88032b52",
   "metadata": {},
   "outputs": [],
   "source": [
    "rfr=RandomForestClassifier()"
   ]
  },
  {
   "cell_type": "code",
   "execution_count": 29,
   "id": "2dcf04d7",
   "metadata": {},
   "outputs": [
    {
     "name": "stderr",
     "output_type": "stream",
     "text": [
      "<ipython-input-29-3f392adc2e88>:1: DataConversionWarning: A column-vector y was passed when a 1d array was expected. Please change the shape of y to (n_samples,), for example using ravel().\n",
      "  rfr.fit(x_train,y_train)\n"
     ]
    },
    {
     "data": {
      "text/plain": [
       "RandomForestClassifier()"
      ]
     },
     "execution_count": 29,
     "metadata": {},
     "output_type": "execute_result"
    }
   ],
   "source": [
    "rfr.fit(x_train,y_train)"
   ]
  },
  {
   "cell_type": "code",
   "execution_count": 30,
   "id": "bc6fd16c",
   "metadata": {},
   "outputs": [
    {
     "data": {
      "text/plain": [
       "0.990909090909091"
      ]
     },
     "execution_count": 30,
     "metadata": {},
     "output_type": "execute_result"
    }
   ],
   "source": [
    "rfr.score(x_test,y_test)            # superb accuracy"
   ]
  },
  {
   "cell_type": "code",
   "execution_count": null,
   "id": "806cb653",
   "metadata": {},
   "outputs": [],
   "source": []
  },
  {
   "cell_type": "code",
   "execution_count": 31,
   "id": "a8827f78",
   "metadata": {},
   "outputs": [],
   "source": [
    "from sklearn.tree import DecisionTreeClassifier"
   ]
  },
  {
   "cell_type": "code",
   "execution_count": 32,
   "id": "906a7b71",
   "metadata": {},
   "outputs": [],
   "source": [
    "dtc=DecisionTreeClassifier()"
   ]
  },
  {
   "cell_type": "code",
   "execution_count": 34,
   "id": "8137980d",
   "metadata": {},
   "outputs": [
    {
     "data": {
      "text/plain": [
       "DecisionTreeClassifier()"
      ]
     },
     "execution_count": 34,
     "metadata": {},
     "output_type": "execute_result"
    }
   ],
   "source": [
    "dtc.fit(x_train,y_train)"
   ]
  },
  {
   "cell_type": "code",
   "execution_count": 35,
   "id": "ddf53c9e",
   "metadata": {},
   "outputs": [
    {
     "data": {
      "text/plain": [
       "0.9840909090909091"
      ]
     },
     "execution_count": 35,
     "metadata": {},
     "output_type": "execute_result"
    }
   ],
   "source": [
    "dtc.score(x_test,y_test)              #by using decisiontree"
   ]
  },
  {
   "cell_type": "code",
   "execution_count": 36,
   "id": "41b62f75",
   "metadata": {},
   "outputs": [],
   "source": [
    "from sklearn.linear_model import Ridge"
   ]
  },
  {
   "cell_type": "code",
   "execution_count": 37,
   "id": "d27a686c",
   "metadata": {},
   "outputs": [],
   "source": [
    "rdg=Ridge()"
   ]
  },
  {
   "cell_type": "code",
   "execution_count": 38,
   "id": "fa85573e",
   "metadata": {},
   "outputs": [
    {
     "ename": "ValueError",
     "evalue": "could not convert string to float: 'lentil'",
     "output_type": "error",
     "traceback": [
      "\u001b[1;31m---------------------------------------------------------------------------\u001b[0m",
      "\u001b[1;31mValueError\u001b[0m                                Traceback (most recent call last)",
      "\u001b[1;32m<ipython-input-38-35b1b060904d>\u001b[0m in \u001b[0;36m<module>\u001b[1;34m\u001b[0m\n\u001b[1;32m----> 1\u001b[1;33m \u001b[0mrdg\u001b[0m\u001b[1;33m.\u001b[0m\u001b[0mfit\u001b[0m\u001b[1;33m(\u001b[0m\u001b[0mx_train\u001b[0m\u001b[1;33m,\u001b[0m\u001b[0my_train\u001b[0m\u001b[1;33m)\u001b[0m\u001b[1;33m\u001b[0m\u001b[1;33m\u001b[0m\u001b[0m\n\u001b[0m\u001b[0;32m      2\u001b[0m \u001b[0mrdg\u001b[0m\u001b[1;33m.\u001b[0m\u001b[0mscore\u001b[0m\u001b[1;33m(\u001b[0m\u001b[0mx_test\u001b[0m\u001b[1;33m,\u001b[0m\u001b[0my_test\u001b[0m\u001b[1;33m)\u001b[0m                     \u001b[1;31m#could,nt interperet the string value\u001b[0m\u001b[1;33m\u001b[0m\u001b[1;33m\u001b[0m\u001b[0m\n",
      "\u001b[1;32mc:\\users\\dell\\appdata\\local\\programs\\python\\python39\\lib\\site-packages\\sklearn\\linear_model\\_ridge.py\u001b[0m in \u001b[0;36mfit\u001b[1;34m(self, X, y, sample_weight)\u001b[0m\n\u001b[0;32m    760\u001b[0m         \u001b[0mself\u001b[0m \u001b[1;33m:\u001b[0m \u001b[0mreturns\u001b[0m \u001b[0man\u001b[0m \u001b[0minstance\u001b[0m \u001b[0mof\u001b[0m \u001b[0mself\u001b[0m\u001b[1;33m.\u001b[0m\u001b[1;33m\u001b[0m\u001b[1;33m\u001b[0m\u001b[0m\n\u001b[0;32m    761\u001b[0m         \"\"\"\n\u001b[1;32m--> 762\u001b[1;33m         \u001b[1;32mreturn\u001b[0m \u001b[0msuper\u001b[0m\u001b[1;33m(\u001b[0m\u001b[1;33m)\u001b[0m\u001b[1;33m.\u001b[0m\u001b[0mfit\u001b[0m\u001b[1;33m(\u001b[0m\u001b[0mX\u001b[0m\u001b[1;33m,\u001b[0m \u001b[0my\u001b[0m\u001b[1;33m,\u001b[0m \u001b[0msample_weight\u001b[0m\u001b[1;33m=\u001b[0m\u001b[0msample_weight\u001b[0m\u001b[1;33m)\u001b[0m\u001b[1;33m\u001b[0m\u001b[1;33m\u001b[0m\u001b[0m\n\u001b[0m\u001b[0;32m    763\u001b[0m \u001b[1;33m\u001b[0m\u001b[0m\n\u001b[0;32m    764\u001b[0m \u001b[1;33m\u001b[0m\u001b[0m\n",
      "\u001b[1;32mc:\\users\\dell\\appdata\\local\\programs\\python\\python39\\lib\\site-packages\\sklearn\\linear_model\\_ridge.py\u001b[0m in \u001b[0;36mfit\u001b[1;34m(self, X, y, sample_weight)\u001b[0m\n\u001b[0;32m    540\u001b[0m         _accept_sparse = _get_valid_accept_sparse(sparse.issparse(X),\n\u001b[0;32m    541\u001b[0m                                                   self.solver)\n\u001b[1;32m--> 542\u001b[1;33m         X, y = self._validate_data(X, y,\n\u001b[0m\u001b[0;32m    543\u001b[0m                                    \u001b[0maccept_sparse\u001b[0m\u001b[1;33m=\u001b[0m\u001b[0m_accept_sparse\u001b[0m\u001b[1;33m,\u001b[0m\u001b[1;33m\u001b[0m\u001b[1;33m\u001b[0m\u001b[0m\n\u001b[0;32m    544\u001b[0m                                    \u001b[0mdtype\u001b[0m\u001b[1;33m=\u001b[0m\u001b[0m_dtype\u001b[0m\u001b[1;33m,\u001b[0m\u001b[1;33m\u001b[0m\u001b[1;33m\u001b[0m\u001b[0m\n",
      "\u001b[1;32mc:\\users\\dell\\appdata\\local\\programs\\python\\python39\\lib\\site-packages\\sklearn\\base.py\u001b[0m in \u001b[0;36m_validate_data\u001b[1;34m(self, X, y, reset, validate_separately, **check_params)\u001b[0m\n\u001b[0;32m    431\u001b[0m                 \u001b[0my\u001b[0m \u001b[1;33m=\u001b[0m \u001b[0mcheck_array\u001b[0m\u001b[1;33m(\u001b[0m\u001b[0my\u001b[0m\u001b[1;33m,\u001b[0m \u001b[1;33m**\u001b[0m\u001b[0mcheck_y_params\u001b[0m\u001b[1;33m)\u001b[0m\u001b[1;33m\u001b[0m\u001b[1;33m\u001b[0m\u001b[0m\n\u001b[0;32m    432\u001b[0m             \u001b[1;32melse\u001b[0m\u001b[1;33m:\u001b[0m\u001b[1;33m\u001b[0m\u001b[1;33m\u001b[0m\u001b[0m\n\u001b[1;32m--> 433\u001b[1;33m                 \u001b[0mX\u001b[0m\u001b[1;33m,\u001b[0m \u001b[0my\u001b[0m \u001b[1;33m=\u001b[0m \u001b[0mcheck_X_y\u001b[0m\u001b[1;33m(\u001b[0m\u001b[0mX\u001b[0m\u001b[1;33m,\u001b[0m \u001b[0my\u001b[0m\u001b[1;33m,\u001b[0m \u001b[1;33m**\u001b[0m\u001b[0mcheck_params\u001b[0m\u001b[1;33m)\u001b[0m\u001b[1;33m\u001b[0m\u001b[1;33m\u001b[0m\u001b[0m\n\u001b[0m\u001b[0;32m    434\u001b[0m             \u001b[0mout\u001b[0m \u001b[1;33m=\u001b[0m \u001b[0mX\u001b[0m\u001b[1;33m,\u001b[0m \u001b[0my\u001b[0m\u001b[1;33m\u001b[0m\u001b[1;33m\u001b[0m\u001b[0m\n\u001b[0;32m    435\u001b[0m \u001b[1;33m\u001b[0m\u001b[0m\n",
      "\u001b[1;32mc:\\users\\dell\\appdata\\local\\programs\\python\\python39\\lib\\site-packages\\sklearn\\utils\\validation.py\u001b[0m in \u001b[0;36minner_f\u001b[1;34m(*args, **kwargs)\u001b[0m\n\u001b[0;32m     61\u001b[0m             \u001b[0mextra_args\u001b[0m \u001b[1;33m=\u001b[0m \u001b[0mlen\u001b[0m\u001b[1;33m(\u001b[0m\u001b[0margs\u001b[0m\u001b[1;33m)\u001b[0m \u001b[1;33m-\u001b[0m \u001b[0mlen\u001b[0m\u001b[1;33m(\u001b[0m\u001b[0mall_args\u001b[0m\u001b[1;33m)\u001b[0m\u001b[1;33m\u001b[0m\u001b[1;33m\u001b[0m\u001b[0m\n\u001b[0;32m     62\u001b[0m             \u001b[1;32mif\u001b[0m \u001b[0mextra_args\u001b[0m \u001b[1;33m<=\u001b[0m \u001b[1;36m0\u001b[0m\u001b[1;33m:\u001b[0m\u001b[1;33m\u001b[0m\u001b[1;33m\u001b[0m\u001b[0m\n\u001b[1;32m---> 63\u001b[1;33m                 \u001b[1;32mreturn\u001b[0m \u001b[0mf\u001b[0m\u001b[1;33m(\u001b[0m\u001b[1;33m*\u001b[0m\u001b[0margs\u001b[0m\u001b[1;33m,\u001b[0m \u001b[1;33m**\u001b[0m\u001b[0mkwargs\u001b[0m\u001b[1;33m)\u001b[0m\u001b[1;33m\u001b[0m\u001b[1;33m\u001b[0m\u001b[0m\n\u001b[0m\u001b[0;32m     64\u001b[0m \u001b[1;33m\u001b[0m\u001b[0m\n\u001b[0;32m     65\u001b[0m             \u001b[1;31m# extra_args > 0\u001b[0m\u001b[1;33m\u001b[0m\u001b[1;33m\u001b[0m\u001b[1;33m\u001b[0m\u001b[0m\n",
      "\u001b[1;32mc:\\users\\dell\\appdata\\local\\programs\\python\\python39\\lib\\site-packages\\sklearn\\utils\\validation.py\u001b[0m in \u001b[0;36mcheck_X_y\u001b[1;34m(X, y, accept_sparse, accept_large_sparse, dtype, order, copy, force_all_finite, ensure_2d, allow_nd, multi_output, ensure_min_samples, ensure_min_features, y_numeric, estimator)\u001b[0m\n\u001b[0;32m    884\u001b[0m         \u001b[0m_assert_all_finite\u001b[0m\u001b[1;33m(\u001b[0m\u001b[0my\u001b[0m\u001b[1;33m)\u001b[0m\u001b[1;33m\u001b[0m\u001b[1;33m\u001b[0m\u001b[0m\n\u001b[0;32m    885\u001b[0m     \u001b[1;32mif\u001b[0m \u001b[0my_numeric\u001b[0m \u001b[1;32mand\u001b[0m \u001b[0my\u001b[0m\u001b[1;33m.\u001b[0m\u001b[0mdtype\u001b[0m\u001b[1;33m.\u001b[0m\u001b[0mkind\u001b[0m \u001b[1;33m==\u001b[0m \u001b[1;34m'O'\u001b[0m\u001b[1;33m:\u001b[0m\u001b[1;33m\u001b[0m\u001b[1;33m\u001b[0m\u001b[0m\n\u001b[1;32m--> 886\u001b[1;33m         \u001b[0my\u001b[0m \u001b[1;33m=\u001b[0m \u001b[0my\u001b[0m\u001b[1;33m.\u001b[0m\u001b[0mastype\u001b[0m\u001b[1;33m(\u001b[0m\u001b[0mnp\u001b[0m\u001b[1;33m.\u001b[0m\u001b[0mfloat64\u001b[0m\u001b[1;33m)\u001b[0m\u001b[1;33m\u001b[0m\u001b[1;33m\u001b[0m\u001b[0m\n\u001b[0m\u001b[0;32m    887\u001b[0m \u001b[1;33m\u001b[0m\u001b[0m\n\u001b[0;32m    888\u001b[0m     \u001b[0mcheck_consistent_length\u001b[0m\u001b[1;33m(\u001b[0m\u001b[0mX\u001b[0m\u001b[1;33m,\u001b[0m \u001b[0my\u001b[0m\u001b[1;33m)\u001b[0m\u001b[1;33m\u001b[0m\u001b[1;33m\u001b[0m\u001b[0m\n",
      "\u001b[1;31mValueError\u001b[0m: could not convert string to float: 'lentil'"
     ]
    }
   ],
   "source": [
    "rdg.fit(x_train,y_train)\n",
    "rdg.score(x_test,y_test)                     #could,nt interperet the string value"
   ]
  },
  {
   "cell_type": "code",
   "execution_count": null,
   "id": "a7437075",
   "metadata": {},
   "outputs": [],
   "source": []
  },
  {
   "cell_type": "code",
   "execution_count": 39,
   "id": "d82fc15d",
   "metadata": {},
   "outputs": [],
   "source": [
    "from sklearn.neighbors import KNeighborsClassifier"
   ]
  },
  {
   "cell_type": "code",
   "execution_count": 40,
   "id": "ebc4e0b4",
   "metadata": {},
   "outputs": [
    {
     "name": "stderr",
     "output_type": "stream",
     "text": [
      "c:\\users\\dell\\appdata\\local\\programs\\python\\python39\\lib\\site-packages\\sklearn\\neighbors\\_classification.py:179: DataConversionWarning: A column-vector y was passed when a 1d array was expected. Please change the shape of y to (n_samples,), for example using ravel().\n",
      "  return self._fit(X, y)\n"
     ]
    },
    {
     "data": {
      "text/plain": [
       "0.9840909090909091"
      ]
     },
     "execution_count": 40,
     "metadata": {},
     "output_type": "execute_result"
    }
   ],
   "source": [
    "knn=KNeighborsClassifier()\n",
    "knn.fit(x_train,y_train)\n",
    "knn.score(x_test,y_test)                    # its a good accuracy"
   ]
  },
  {
   "cell_type": "code",
   "execution_count": null,
   "id": "b6faafe2",
   "metadata": {},
   "outputs": [],
   "source": []
  },
  {
   "cell_type": "code",
   "execution_count": 41,
   "id": "84d8ebdf",
   "metadata": {},
   "outputs": [
    {
     "name": "stderr",
     "output_type": "stream",
     "text": [
      "c:\\users\\dell\\appdata\\local\\programs\\python\\python39\\lib\\site-packages\\sklearn\\utils\\validation.py:63: DataConversionWarning: A column-vector y was passed when a 1d array was expected. Please change the shape of y to (n_samples, ), for example using ravel().\n",
      "  return f(*args, **kwargs)\n"
     ]
    },
    {
     "data": {
      "text/plain": [
       "0.975"
      ]
     },
     "execution_count": 41,
     "metadata": {},
     "output_type": "execute_result"
    }
   ],
   "source": [
    "from sklearn.svm import SVC\n",
    "svc=SVC()\n",
    "svc.fit(x_train,y_train)\n",
    "svc.score(x_test,y_test)"
   ]
  },
  {
   "cell_type": "code",
   "execution_count": 42,
   "id": "08a0bf17",
   "metadata": {},
   "outputs": [
    {
     "name": "stderr",
     "output_type": "stream",
     "text": [
      "c:\\users\\dell\\appdata\\local\\programs\\python\\python39\\lib\\site-packages\\sklearn\\utils\\validation.py:63: DataConversionWarning: A column-vector y was passed when a 1d array was expected. Please change the shape of y to (n_samples, ), for example using ravel().\n",
      "  return f(*args, **kwargs)\n"
     ]
    },
    {
     "data": {
      "text/plain": [
       "0.9977272727272727"
      ]
     },
     "execution_count": 42,
     "metadata": {},
     "output_type": "execute_result"
    }
   ],
   "source": [
    "from sklearn.naive_bayes import GaussianNB\n",
    "gnb=GaussianNB()\n",
    "gnb.fit(x_train,y_train)\n",
    "gnb.score(x_test,y_test)                                 # good accuracy by using naive_bayes"
   ]
  },
  {
   "cell_type": "code",
   "execution_count": null,
   "id": "ac9777fc",
   "metadata": {},
   "outputs": [],
   "source": []
  },
  {
   "cell_type": "code",
   "execution_count": 43,
   "id": "04a8e559",
   "metadata": {},
   "outputs": [
    {
     "name": "stderr",
     "output_type": "stream",
     "text": [
      "c:\\users\\dell\\appdata\\local\\programs\\python\\python39\\lib\\site-packages\\sklearn\\utils\\validation.py:63: DataConversionWarning: A column-vector y was passed when a 1d array was expected. Please change the shape of y to (n_samples, ), for example using ravel().\n",
      "  return f(*args, **kwargs)\n"
     ]
    },
    {
     "data": {
      "text/plain": [
       "0.8886363636363637"
      ]
     },
     "execution_count": 43,
     "metadata": {},
     "output_type": "execute_result"
    }
   ],
   "source": [
    "from sklearn.naive_bayes import MultinomialNB\n",
    "mnb=MultinomialNB()\n",
    "mnb.fit(x_train,y_train)\n",
    "mnb.score(x_test,y_test)                                "
   ]
  },
  {
   "cell_type": "code",
   "execution_count": null,
   "id": "9ccbb539",
   "metadata": {},
   "outputs": [],
   "source": []
  },
  {
   "cell_type": "code",
   "execution_count": 44,
   "id": "eb27d8e8",
   "metadata": {},
   "outputs": [
    {
     "name": "stderr",
     "output_type": "stream",
     "text": [
      "c:\\users\\dell\\appdata\\local\\programs\\python\\python39\\lib\\site-packages\\sklearn\\utils\\validation.py:63: DataConversionWarning: A column-vector y was passed when a 1d array was expected. Please change the shape of y to (n_samples, ), for example using ravel().\n",
      "  return f(*args, **kwargs)\n"
     ]
    },
    {
     "data": {
      "text/plain": [
       "0.02727272727272727"
      ]
     },
     "execution_count": 44,
     "metadata": {},
     "output_type": "execute_result"
    }
   ],
   "source": [
    "from sklearn.naive_bayes import BernoulliNB\n",
    "bnb=BernoulliNB()\n",
    "bnb.fit(x_train,y_train)\n",
    "bnb.score(x_test,y_test) "
   ]
  },
  {
   "cell_type": "code",
   "execution_count": 45,
   "id": "8f299782",
   "metadata": {},
   "outputs": [
    {
     "data": {
      "text/plain": [
       "0.02727272727272727"
      ]
     },
     "execution_count": 45,
     "metadata": {},
     "output_type": "execute_result"
    }
   ],
   "source": [
    "lr.score(x_test,y_test) \n",
    "rfr.score(x_test,y_test)  \n",
    "dtc.score(x_test,y_test) \n",
    "knn.score(x_test,y_test)\n",
    "svc.score(x_test,y_test)\n",
    "gnb.score(x_test,y_test)\n",
    "mnb.score(x_test,y_test) \n",
    "bnb.score(x_test,y_test) "
   ]
  },
  {
   "cell_type": "code",
   "execution_count": 46,
   "id": "b7be656e",
   "metadata": {},
   "outputs": [
    {
     "data": {
      "text/plain": [
       "[0.9477272727272728,\n",
       " 0.990909090909091,\n",
       " 0.9840909090909091,\n",
       " 0.9840909090909091,\n",
       " 0.975,\n",
       " 0.9977272727272727,\n",
       " 0.8886363636363637,\n",
       " 0.02727272727272727]"
      ]
     },
     "execution_count": 46,
     "metadata": {},
     "output_type": "execute_result"
    }
   ],
   "source": [
    "[lr.score(x_test,y_test),rfr.score(x_test,y_test),dtc.score(x_test,y_test),knn.score(x_test,y_test),svc.score(x_test,y_test),gnb.score(x_test,y_test),mnb.score(x_test,y_test),bnb.score(x_test,y_test)  \n",
    "\n",
    ",\n",
    "\n",
    "\n",
    "  \n",
    "\n",
    "]"
   ]
  },
  {
   "cell_type": "code",
   "execution_count": 48,
   "id": "8d4bb7f1",
   "metadata": {},
   "outputs": [
    {
     "data": {
      "text/plain": [
       "0.9977272727272727"
      ]
     },
     "execution_count": 48,
     "metadata": {},
     "output_type": "execute_result"
    }
   ],
   "source": [
    "gnb.score(x_test,y_test)           # this is our best model \n",
    "# so i will go  to save this model"
   ]
  },
  {
   "cell_type": "code",
   "execution_count": 49,
   "id": "7611dd1a",
   "metadata": {},
   "outputs": [],
   "source": [
    "import pickle"
   ]
  },
  {
   "cell_type": "code",
   "execution_count": 50,
   "id": "64757ea9",
   "metadata": {},
   "outputs": [],
   "source": [
    "pickle.dump(gnb,open('farmer_guidence_model_with_99.77%_accuracy.pkl','wb'))"
   ]
  },
  {
   "cell_type": "code",
   "execution_count": 51,
   "id": "a340d57e",
   "metadata": {},
   "outputs": [],
   "source": [
    "model=pickle.load(open('farmer_guidence_model_with_99.77%_accuracy.pkl','rb'))"
   ]
  },
  {
   "cell_type": "code",
   "execution_count": 52,
   "id": "13eef55b",
   "metadata": {},
   "outputs": [
    {
     "data": {
      "text/plain": [
       "array(['mango', 'pigeonpeas', 'orange', 'cotton', 'mungbean', 'coconut',\n",
       "       'pigeonpeas', 'maize', 'watermelon', 'mango', 'apple', 'chickpea',\n",
       "       'pomegranate', 'coffee', 'papaya', 'grapes', 'apple', 'coconut',\n",
       "       'papaya', 'rice', 'jute', 'grapes', 'lentil', 'cotton', 'maize',\n",
       "       'coconut', 'pomegranate', 'mango', 'watermelon', 'jute', 'coconut',\n",
       "       'kidneybeans', 'banana', 'coconut', 'rice', 'pomegranate',\n",
       "       'blackgram', 'blackgram', 'pomegranate', 'jute', 'rice', 'lentil',\n",
       "       'papaya', 'pomegranate', 'kidneybeans', 'mungbean', 'chickpea',\n",
       "       'watermelon', 'lentil', 'coconut', 'mango', 'apple', 'grapes',\n",
       "       'blackgram', 'maize', 'muskmelon', 'mungbean', 'muskmelon',\n",
       "       'muskmelon', 'pomegranate', 'kidneybeans', 'lentil', 'rice',\n",
       "       'coconut', 'pigeonpeas', 'rice', 'grapes', 'coconut', 'coffee',\n",
       "       'maize', 'jute', 'pigeonpeas', 'mango', 'rice', 'rice',\n",
       "       'muskmelon', 'rice', 'jute', 'cotton', 'banana', 'coconut',\n",
       "       'mothbeans', 'cotton', 'orange', 'mungbean', 'apple', 'papaya',\n",
       "       'papaya', 'jute', 'coconut', 'blackgram', 'orange', 'rice',\n",
       "       'muskmelon', 'chickpea', 'mungbean', 'grapes', 'mungbean',\n",
       "       'coffee', 'jute', 'mango', 'apple', 'banana', 'cotton', 'cotton',\n",
       "       'rice', 'cotton', 'watermelon', 'mothbeans', 'kidneybeans',\n",
       "       'muskmelon', 'lentil', 'watermelon', 'apple', 'watermelon',\n",
       "       'cotton', 'muskmelon', 'apple', 'muskmelon', 'jute', 'mango',\n",
       "       'maize', 'blackgram', 'papaya', 'rice', 'coffee', 'apple',\n",
       "       'coffee', 'lentil', 'kidneybeans', 'lentil', 'cotton', 'grapes',\n",
       "       'mothbeans', 'mango', 'apple', 'chickpea', 'cotton', 'banana',\n",
       "       'pomegranate', 'watermelon', 'chickpea', 'coffee', 'papaya',\n",
       "       'muskmelon', 'banana', 'watermelon', 'coconut', 'muskmelon',\n",
       "       'chickpea', 'apple', 'jute', 'lentil', 'pigeonpeas', 'cotton',\n",
       "       'mango', 'cotton', 'pomegranate', 'pomegranate', 'maize',\n",
       "       'blackgram', 'coffee', 'papaya', 'papaya', 'chickpea',\n",
       "       'pigeonpeas', 'mungbean', 'apple', 'chickpea', 'watermelon',\n",
       "       'watermelon', 'jute', 'jute', 'papaya', 'blackgram', 'chickpea',\n",
       "       'watermelon', 'banana', 'kidneybeans', 'kidneybeans', 'lentil',\n",
       "       'coconut', 'muskmelon', 'coconut', 'maize', 'kidneybeans',\n",
       "       'pigeonpeas', 'coffee', 'coffee', 'chickpea', 'mungbean', 'banana',\n",
       "       'pomegranate', 'watermelon', 'jute', 'banana', 'coconut', 'maize',\n",
       "       'lentil', 'watermelon', 'chickpea', 'jute', 'mungbean',\n",
       "       'mothbeans', 'papaya', 'watermelon', 'jute', 'rice', 'jute',\n",
       "       'watermelon', 'muskmelon', 'banana', 'mango', 'cotton', 'apple',\n",
       "       'watermelon', 'kidneybeans', 'watermelon', 'apple', 'lentil',\n",
       "       'maize', 'coffee', 'apple', 'grapes', 'chickpea', 'muskmelon',\n",
       "       'apple', 'banana', 'watermelon', 'maize', 'muskmelon', 'banana',\n",
       "       'kidneybeans', 'lentil', 'jute', 'maize', 'pomegranate', 'grapes',\n",
       "       'coffee', 'kidneybeans', 'orange', 'cotton', 'chickpea', 'rice',\n",
       "       'jute', 'jute', 'orange', 'cotton', 'pigeonpeas', 'blackgram',\n",
       "       'coffee', 'mungbean', 'coffee', 'rice', 'orange', 'papaya',\n",
       "       'mothbeans', 'maize', 'lentil', 'banana', 'mothbeans', 'maize',\n",
       "       'lentil', 'mungbean', 'watermelon', 'coconut', 'lentil',\n",
       "       'blackgram', 'coconut', 'muskmelon', 'grapes', 'grapes', 'apple',\n",
       "       'coconut', 'blackgram', 'chickpea', 'jute', 'kidneybeans',\n",
       "       'blackgram', 'lentil', 'papaya', 'mothbeans', 'coconut',\n",
       "       'muskmelon', 'blackgram', 'pigeonpeas', 'muskmelon', 'mungbean',\n",
       "       'coffee', 'jute', 'watermelon', 'maize', 'coconut', 'papaya',\n",
       "       'coconut', 'blackgram', 'orange', 'pigeonpeas', 'maize', 'apple',\n",
       "       'mothbeans', 'blackgram', 'orange', 'lentil', 'apple', 'mango',\n",
       "       'apple', 'kidneybeans', 'chickpea', 'pigeonpeas', 'chickpea',\n",
       "       'maize', 'mothbeans', 'maize', 'pomegranate', 'coffee', 'maize',\n",
       "       'pigeonpeas', 'mango', 'papaya', 'maize', 'pomegranate', 'orange',\n",
       "       'watermelon', 'banana', 'watermelon', 'rice', 'banana', 'banana',\n",
       "       'jute', 'mango', 'chickpea', 'mothbeans', 'blackgram', 'banana',\n",
       "       'pigeonpeas', 'mothbeans', 'chickpea', 'pomegranate', 'muskmelon',\n",
       "       'rice', 'rice', 'chickpea', 'papaya', 'watermelon', 'rice',\n",
       "       'mango', 'rice', 'orange', 'maize', 'coffee', 'mango', 'papaya',\n",
       "       'muskmelon', 'mango', 'rice', 'coconut', 'watermelon', 'blackgram',\n",
       "       'mungbean', 'mango', 'watermelon', 'chickpea', 'cotton',\n",
       "       'mungbean', 'pigeonpeas', 'mothbeans', 'chickpea', 'mothbeans',\n",
       "       'pigeonpeas', 'chickpea', 'mango', 'muskmelon', 'banana', 'apple',\n",
       "       'rice', 'orange', 'cotton', 'pigeonpeas', 'pomegranate',\n",
       "       'watermelon', 'blackgram', 'maize', 'maize', 'grapes',\n",
       "       'pigeonpeas', 'papaya', 'kidneybeans', 'pomegranate', 'coffee',\n",
       "       'papaya', 'banana', 'rice', 'papaya', 'rice', 'lentil', 'jute',\n",
       "       'mothbeans', 'chickpea', 'kidneybeans', 'pomegranate', 'papaya',\n",
       "       'rice', 'coffee', 'cotton', 'jute', 'mango', 'kidneybeans',\n",
       "       'coconut', 'papaya', 'cotton', 'rice', 'coconut', 'chickpea',\n",
       "       'rice', 'blackgram', 'mungbean', 'jute', 'watermelon', 'chickpea',\n",
       "       'coffee', 'watermelon', 'banana', 'cotton', 'maize', 'apple',\n",
       "       'mothbeans', 'mothbeans', 'blackgram', 'chickpea', 'apple',\n",
       "       'pomegranate', 'mungbean', 'coffee', 'banana', 'watermelon',\n",
       "       'papaya', 'coffee', 'mango', 'orange'], dtype='<U11')"
      ]
     },
     "execution_count": 52,
     "metadata": {},
     "output_type": "execute_result"
    }
   ],
   "source": [
    "model.predict(x_test)"
   ]
  },
  {
   "cell_type": "code",
   "execution_count": 54,
   "id": "8c469f32",
   "metadata": {},
   "outputs": [
    {
     "name": "stderr",
     "output_type": "stream",
     "text": [
      "<ipython-input-54-22e6ef73ba12>:1: SettingWithCopyWarning: \n",
      "A value is trying to be set on a copy of a slice from a DataFrame.\n",
      "Try using .loc[row_indexer,col_indexer] = value instead\n",
      "\n",
      "See the caveats in the documentation: https://pandas.pydata.org/pandas-docs/stable/user_guide/indexing.html#returning-a-view-versus-a-copy\n",
      "  y_test['predicted_value']=model.predict(x_test)\n"
     ]
    }
   ],
   "source": [
    "y_test['predicted_value']=model.predict(x_test)"
   ]
  },
  {
   "cell_type": "code",
   "execution_count": 57,
   "id": "c808c139",
   "metadata": {},
   "outputs": [
    {
     "data": {
      "text/html": [
       "<div>\n",
       "<style scoped>\n",
       "    .dataframe tbody tr th:only-of-type {\n",
       "        vertical-align: middle;\n",
       "    }\n",
       "\n",
       "    .dataframe tbody tr th {\n",
       "        vertical-align: top;\n",
       "    }\n",
       "\n",
       "    .dataframe thead th {\n",
       "        text-align: right;\n",
       "    }\n",
       "</style>\n",
       "<table border=\"1\" class=\"dataframe\">\n",
       "  <thead>\n",
       "    <tr style=\"text-align: right;\">\n",
       "      <th></th>\n",
       "      <th>label</th>\n",
       "      <th>predicted_value</th>\n",
       "    </tr>\n",
       "  </thead>\n",
       "  <tbody>\n",
       "    <tr>\n",
       "      <th>1159</th>\n",
       "      <td>mango</td>\n",
       "      <td>mango</td>\n",
       "    </tr>\n",
       "    <tr>\n",
       "      <th>499</th>\n",
       "      <td>pigeonpeas</td>\n",
       "      <td>pigeonpeas</td>\n",
       "    </tr>\n",
       "    <tr>\n",
       "      <th>1609</th>\n",
       "      <td>orange</td>\n",
       "      <td>orange</td>\n",
       "    </tr>\n",
       "    <tr>\n",
       "      <th>1924</th>\n",
       "      <td>cotton</td>\n",
       "      <td>cotton</td>\n",
       "    </tr>\n",
       "    <tr>\n",
       "      <th>661</th>\n",
       "      <td>mungbean</td>\n",
       "      <td>mungbean</td>\n",
       "    </tr>\n",
       "  </tbody>\n",
       "</table>\n",
       "</div>"
      ],
      "text/plain": [
       "           label predicted_value\n",
       "1159       mango           mango\n",
       "499   pigeonpeas      pigeonpeas\n",
       "1609      orange          orange\n",
       "1924      cotton          cotton\n",
       "661     mungbean        mungbean"
      ]
     },
     "execution_count": 57,
     "metadata": {},
     "output_type": "execute_result"
    }
   ],
   "source": [
    "y_test.head()"
   ]
  },
  {
   "cell_type": "code",
   "execution_count": 58,
   "id": "604870fe",
   "metadata": {},
   "outputs": [
    {
     "data": {
      "text/plain": [
       "watermelon     29\n",
       "rice           27\n",
       "chickpea       26\n",
       "maize          23\n",
       "coconut        23\n",
       "jute           23\n",
       "papaya         23\n",
       "apple          22\n",
       "coffee         21\n",
       "banana         20\n",
       "mango          20\n",
       "cotton         20\n",
       "muskmelon      20\n",
       "blackgram      19\n",
       "lentil         18\n",
       "pomegranate    18\n",
       "pigeonpeas     17\n",
       "mothbeans      16\n",
       "mungbean       16\n",
       "kidneybeans    16\n",
       "orange         12\n",
       "grapes         11\n",
       "Name: label, dtype: int64"
      ]
     },
     "execution_count": 58,
     "metadata": {},
     "output_type": "execute_result"
    }
   ],
   "source": [
    "y_test['label'].value_counts()"
   ]
  },
  {
   "cell_type": "code",
   "execution_count": 59,
   "id": "a29b3451",
   "metadata": {},
   "outputs": [
    {
     "data": {
      "text/plain": [
       "watermelon     29\n",
       "chickpea       26\n",
       "rice           26\n",
       "jute           24\n",
       "maize          23\n",
       "coconut        23\n",
       "papaya         23\n",
       "apple          22\n",
       "coffee         21\n",
       "banana         20\n",
       "mango          20\n",
       "cotton         20\n",
       "muskmelon      20\n",
       "blackgram      19\n",
       "lentil         18\n",
       "pomegranate    18\n",
       "pigeonpeas     17\n",
       "mothbeans      16\n",
       "mungbean       16\n",
       "kidneybeans    16\n",
       "orange         12\n",
       "grapes         11\n",
       "Name: predicted_value, dtype: int64"
      ]
     },
     "execution_count": 59,
     "metadata": {},
     "output_type": "execute_result"
    }
   ],
   "source": [
    "y_test['predicted_value'].value_counts()"
   ]
  },
  {
   "cell_type": "code",
   "execution_count": 61,
   "id": "47b2f5d5",
   "metadata": {},
   "outputs": [
    {
     "data": {
      "text/html": [
       "<div>\n",
       "<style scoped>\n",
       "    .dataframe tbody tr th:only-of-type {\n",
       "        vertical-align: middle;\n",
       "    }\n",
       "\n",
       "    .dataframe tbody tr th {\n",
       "        vertical-align: top;\n",
       "    }\n",
       "\n",
       "    .dataframe thead th {\n",
       "        text-align: right;\n",
       "    }\n",
       "</style>\n",
       "<table border=\"1\" class=\"dataframe\">\n",
       "  <thead>\n",
       "    <tr style=\"text-align: right;\">\n",
       "      <th></th>\n",
       "      <th>label</th>\n",
       "      <th>predicted_value</th>\n",
       "    </tr>\n",
       "  </thead>\n",
       "  <tbody>\n",
       "    <tr>\n",
       "      <th>1159</th>\n",
       "      <td>mango</td>\n",
       "      <td>mango</td>\n",
       "    </tr>\n",
       "    <tr>\n",
       "      <th>499</th>\n",
       "      <td>pigeonpeas</td>\n",
       "      <td>pigeonpeas</td>\n",
       "    </tr>\n",
       "    <tr>\n",
       "      <th>1609</th>\n",
       "      <td>orange</td>\n",
       "      <td>orange</td>\n",
       "    </tr>\n",
       "    <tr>\n",
       "      <th>1924</th>\n",
       "      <td>cotton</td>\n",
       "      <td>cotton</td>\n",
       "    </tr>\n",
       "    <tr>\n",
       "      <th>661</th>\n",
       "      <td>mungbean</td>\n",
       "      <td>mungbean</td>\n",
       "    </tr>\n",
       "    <tr>\n",
       "      <th>1839</th>\n",
       "      <td>coconut</td>\n",
       "      <td>coconut</td>\n",
       "    </tr>\n",
       "    <tr>\n",
       "      <th>475</th>\n",
       "      <td>pigeonpeas</td>\n",
       "      <td>pigeonpeas</td>\n",
       "    </tr>\n",
       "    <tr>\n",
       "      <th>141</th>\n",
       "      <td>maize</td>\n",
       "      <td>maize</td>\n",
       "    </tr>\n",
       "    <tr>\n",
       "      <th>1317</th>\n",
       "      <td>watermelon</td>\n",
       "      <td>watermelon</td>\n",
       "    </tr>\n",
       "    <tr>\n",
       "      <th>1107</th>\n",
       "      <td>mango</td>\n",
       "      <td>mango</td>\n",
       "    </tr>\n",
       "    <tr>\n",
       "      <th>1508</th>\n",
       "      <td>apple</td>\n",
       "      <td>apple</td>\n",
       "    </tr>\n",
       "    <tr>\n",
       "      <th>283</th>\n",
       "      <td>chickpea</td>\n",
       "      <td>chickpea</td>\n",
       "    </tr>\n",
       "    <tr>\n",
       "      <th>938</th>\n",
       "      <td>pomegranate</td>\n",
       "      <td>pomegranate</td>\n",
       "    </tr>\n",
       "    <tr>\n",
       "      <th>2129</th>\n",
       "      <td>coffee</td>\n",
       "      <td>coffee</td>\n",
       "    </tr>\n",
       "    <tr>\n",
       "      <th>1755</th>\n",
       "      <td>papaya</td>\n",
       "      <td>papaya</td>\n",
       "    </tr>\n",
       "    <tr>\n",
       "      <th>1293</th>\n",
       "      <td>grapes</td>\n",
       "      <td>grapes</td>\n",
       "    </tr>\n",
       "    <tr>\n",
       "      <th>1504</th>\n",
       "      <td>apple</td>\n",
       "      <td>apple</td>\n",
       "    </tr>\n",
       "    <tr>\n",
       "      <th>1873</th>\n",
       "      <td>coconut</td>\n",
       "      <td>coconut</td>\n",
       "    </tr>\n",
       "    <tr>\n",
       "      <th>1737</th>\n",
       "      <td>papaya</td>\n",
       "      <td>papaya</td>\n",
       "    </tr>\n",
       "    <tr>\n",
       "      <th>67</th>\n",
       "      <td>rice</td>\n",
       "      <td>rice</td>\n",
       "    </tr>\n",
       "  </tbody>\n",
       "</table>\n",
       "</div>"
      ],
      "text/plain": [
       "            label predicted_value\n",
       "1159        mango           mango\n",
       "499    pigeonpeas      pigeonpeas\n",
       "1609       orange          orange\n",
       "1924       cotton          cotton\n",
       "661      mungbean        mungbean\n",
       "1839      coconut         coconut\n",
       "475    pigeonpeas      pigeonpeas\n",
       "141         maize           maize\n",
       "1317   watermelon      watermelon\n",
       "1107        mango           mango\n",
       "1508        apple           apple\n",
       "283      chickpea        chickpea\n",
       "938   pomegranate     pomegranate\n",
       "2129       coffee          coffee\n",
       "1755       papaya          papaya\n",
       "1293       grapes          grapes\n",
       "1504        apple           apple\n",
       "1873      coconut         coconut\n",
       "1737       papaya          papaya\n",
       "67           rice            rice"
      ]
     },
     "execution_count": 61,
     "metadata": {},
     "output_type": "execute_result"
    }
   ],
   "source": [
    "y_test.head(20)"
   ]
  },
  {
   "cell_type": "markdown",
   "id": "fca8c2ec",
   "metadata": {},
   "source": [
    "# THANK YOU 🤞😎✌🌹"
   ]
  }
 ],
 "metadata": {
  "kernelspec": {
   "display_name": "Python 3",
   "language": "python",
   "name": "python3"
  },
  "language_info": {
   "codemirror_mode": {
    "name": "ipython",
    "version": 3
   },
   "file_extension": ".py",
   "mimetype": "text/x-python",
   "name": "python",
   "nbconvert_exporter": "python",
   "pygments_lexer": "ipython3",
   "version": "3.9.2"
  }
 },
 "nbformat": 4,
 "nbformat_minor": 5
}
