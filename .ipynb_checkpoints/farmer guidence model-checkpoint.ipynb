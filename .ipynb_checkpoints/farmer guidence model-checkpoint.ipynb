{
 "cells": [
  {
   "cell_type": "markdown",
   "id": "e31f072a",
   "metadata": {},
   "source": [
    ">>> # farmer Guidencence Prediction model"
   ]
  },
  {
   "cell_type": "code",
   "execution_count": 85,
   "id": "e1f66b37",
   "metadata": {},
   "outputs": [],
   "source": [
    "from ipywidgets import interact       # good libraries for project\n",
    "import pandas as pd\n",
    "import numpy as np\n",
    "import matplotlib.pyplot as plt\n",
    "import seaborn as sns\n",
    "from sklearn.model_selection import train_test_split\n",
    "from sklearn.cluster import KMeans\n",
    "from sklearn.linear_model import LogisticRegression\n",
    "from sklearn.metrics import confusion_matrix\n",
    "from sklearn.metrics import classification_report"
   ]
  },
  {
   "cell_type": "code",
   "execution_count": 2,
   "id": "4678d123",
   "metadata": {},
   "outputs": [
    {
     "data": {
      "text/html": [
       "<div>\n",
       "<style scoped>\n",
       "    .dataframe tbody tr th:only-of-type {\n",
       "        vertical-align: middle;\n",
       "    }\n",
       "\n",
       "    .dataframe tbody tr th {\n",
       "        vertical-align: top;\n",
       "    }\n",
       "\n",
       "    .dataframe thead th {\n",
       "        text-align: right;\n",
       "    }\n",
       "</style>\n",
       "<table border=\"1\" class=\"dataframe\">\n",
       "  <thead>\n",
       "    <tr style=\"text-align: right;\">\n",
       "      <th></th>\n",
       "      <th>N</th>\n",
       "      <th>P</th>\n",
       "      <th>K</th>\n",
       "      <th>temperature</th>\n",
       "      <th>humidity</th>\n",
       "      <th>ph</th>\n",
       "      <th>rainfall</th>\n",
       "      <th>label</th>\n",
       "    </tr>\n",
       "  </thead>\n",
       "  <tbody>\n",
       "    <tr>\n",
       "      <th>0</th>\n",
       "      <td>90</td>\n",
       "      <td>42</td>\n",
       "      <td>43</td>\n",
       "      <td>20.879744</td>\n",
       "      <td>82.002744</td>\n",
       "      <td>6.502985</td>\n",
       "      <td>202.935536</td>\n",
       "      <td>rice</td>\n",
       "    </tr>\n",
       "    <tr>\n",
       "      <th>1</th>\n",
       "      <td>85</td>\n",
       "      <td>58</td>\n",
       "      <td>41</td>\n",
       "      <td>21.770462</td>\n",
       "      <td>80.319644</td>\n",
       "      <td>7.038096</td>\n",
       "      <td>226.655537</td>\n",
       "      <td>rice</td>\n",
       "    </tr>\n",
       "    <tr>\n",
       "      <th>2</th>\n",
       "      <td>60</td>\n",
       "      <td>55</td>\n",
       "      <td>44</td>\n",
       "      <td>23.004459</td>\n",
       "      <td>82.320763</td>\n",
       "      <td>7.840207</td>\n",
       "      <td>263.964248</td>\n",
       "      <td>rice</td>\n",
       "    </tr>\n",
       "    <tr>\n",
       "      <th>3</th>\n",
       "      <td>74</td>\n",
       "      <td>35</td>\n",
       "      <td>40</td>\n",
       "      <td>26.491096</td>\n",
       "      <td>80.158363</td>\n",
       "      <td>6.980401</td>\n",
       "      <td>242.864034</td>\n",
       "      <td>rice</td>\n",
       "    </tr>\n",
       "    <tr>\n",
       "      <th>4</th>\n",
       "      <td>78</td>\n",
       "      <td>42</td>\n",
       "      <td>42</td>\n",
       "      <td>20.130175</td>\n",
       "      <td>81.604873</td>\n",
       "      <td>7.628473</td>\n",
       "      <td>262.717340</td>\n",
       "      <td>rice</td>\n",
       "    </tr>\n",
       "  </tbody>\n",
       "</table>\n",
       "</div>"
      ],
      "text/plain": [
       "    N   P   K  temperature   humidity        ph    rainfall label\n",
       "0  90  42  43    20.879744  82.002744  6.502985  202.935536  rice\n",
       "1  85  58  41    21.770462  80.319644  7.038096  226.655537  rice\n",
       "2  60  55  44    23.004459  82.320763  7.840207  263.964248  rice\n",
       "3  74  35  40    26.491096  80.158363  6.980401  242.864034  rice\n",
       "4  78  42  42    20.130175  81.604873  7.628473  262.717340  rice"
      ]
     },
     "execution_count": 2,
     "metadata": {},
     "output_type": "execute_result"
    }
   ],
   "source": [
    "data=pd.read_csv('farmer.csv')\n",
    "data.head()"
   ]
  },
  {
   "cell_type": "code",
   "execution_count": 3,
   "id": "58656da3",
   "metadata": {},
   "outputs": [
    {
     "data": {
      "text/plain": [
       "N              0\n",
       "P              0\n",
       "K              0\n",
       "temperature    0\n",
       "humidity       0\n",
       "ph             0\n",
       "rainfall       0\n",
       "label          0\n",
       "dtype: int64"
      ]
     },
     "execution_count": 3,
     "metadata": {},
     "output_type": "execute_result"
    }
   ],
   "source": [
    "data.isnull().sum()"
   ]
  },
  {
   "cell_type": "code",
   "execution_count": 4,
   "id": "169dd7a3",
   "metadata": {},
   "outputs": [
    {
     "data": {
      "text/plain": [
       "mothbeans      100\n",
       "chickpea       100\n",
       "coconut        100\n",
       "cotton         100\n",
       "maize          100\n",
       "watermelon     100\n",
       "apple          100\n",
       "jute           100\n",
       "kidneybeans    100\n",
       "muskmelon      100\n",
       "pigeonpeas     100\n",
       "orange         100\n",
       "mango          100\n",
       "coffee         100\n",
       "mungbean       100\n",
       "lentil         100\n",
       "banana         100\n",
       "papaya         100\n",
       "blackgram      100\n",
       "rice           100\n",
       "grapes         100\n",
       "pomegranate    100\n",
       "Name: label, dtype: int64"
      ]
     },
     "execution_count": 4,
     "metadata": {},
     "output_type": "execute_result"
    }
   ],
   "source": [
    "data['label'].value_counts()"
   ]
  },
  {
   "cell_type": "markdown",
   "id": "2769a74c",
   "metadata": {},
   "source": [
    "# average value of nitrogen and phosphorus"
   ]
  },
  {
   "cell_type": "code",
   "execution_count": 5,
   "id": "6b39f845",
   "metadata": {},
   "outputs": [
    {
     "name": "stdout",
     "output_type": "stream",
     "text": [
      "average ratio of nitrogen in the soil :50.551818\n",
      "average ratio of phosphorus in the soil :53.362727\n",
      "average ratio of Potesiume in the soil :48.149091\n",
      "average ratio of temperature in the soil :25.616244\n"
     ]
    }
   ],
   "source": [
    "print('average ratio of nitrogen in the soil :{0:2f}'.format(data['N'].mean()))\n",
    "print('average ratio of phosphorus in the soil :{0:2f}'.format(data['P'].mean()))\n",
    "print('average ratio of Potesiume in the soil :{0:2f}'.format(data['K'].mean()))\n",
    "print('average ratio of temperature in the soil :{0:2f}'.format(data['temperature'].mean()))"
   ]
  },
  {
   "cell_type": "markdown",
   "id": "1fb6a484",
   "metadata": {},
   "source": [
    "# interactive function fo each crop\n",
    "# we will improve this function"
   ]
  },
  {
   "cell_type": "code",
   "execution_count": 6,
   "id": "86ac8759",
   "metadata": {},
   "outputs": [
    {
     "data": {
      "application/vnd.jupyter.widget-view+json": {
       "model_id": "930d600645494f1489efa84d43a05f2d",
       "version_major": 2,
       "version_minor": 0
      },
      "text/plain": [
       "interactive(children=(Dropdown(description='crops', options=('mothbeans', 'chickpea', 'coconut', 'cotton', 'ma…"
      ]
     },
     "metadata": {},
     "output_type": "display_data"
    }
   ],
   "source": [
    "@interact\n",
    "def summary(crops=list(data['label'].value_counts().index)):\n",
    "    x=data[data['label']==crops]\n",
    "    print(\"-------------------------------------------\")\n",
    "    print('statistics for nitrogen')\n",
    "    print('minimum nitrogen required :-',x['N'].min())\n",
    "    print(',,,,,,,,,,,,,,,,,,,,,,,,,,,,,')\n",
    "    print('minimum phosphorus required :-',x['P'].min())\n",
    "    print(',,,,,,,,,,,,,,,,,,,,,,,,,,,,,,,,,,,,,,,,,,,,')\n",
    "    print('minumum  potasium required :-',x['K'].min())\n"
   ]
  },
  {
   "cell_type": "code",
   "execution_count": 7,
   "id": "f77e6319",
   "metadata": {},
   "outputs": [
    {
     "data": {
      "text/plain": [
       "['mothbeans',\n",
       " 'chickpea',\n",
       " 'coconut',\n",
       " 'cotton',\n",
       " 'maize',\n",
       " 'watermelon',\n",
       " 'apple',\n",
       " 'jute',\n",
       " 'kidneybeans',\n",
       " 'muskmelon',\n",
       " 'pigeonpeas',\n",
       " 'orange',\n",
       " 'mango',\n",
       " 'coffee',\n",
       " 'mungbean',\n",
       " 'lentil',\n",
       " 'banana',\n",
       " 'papaya',\n",
       " 'blackgram',\n",
       " 'rice',\n",
       " 'grapes',\n",
       " 'pomegranate']"
      ]
     },
     "execution_count": 7,
     "metadata": {},
     "output_type": "execute_result"
    }
   ],
   "source": [
    "crops=list(data['label'].value_counts().index)\n",
    "crops"
   ]
  },
  {
   "cell_type": "markdown",
   "id": "bb233286",
   "metadata": {},
   "source": [
    "# average of all features by interactive function"
   ]
  },
  {
   "cell_type": "code",
   "execution_count": 8,
   "id": "0662e07a",
   "metadata": {},
   "outputs": [
    {
     "data": {
      "application/vnd.jupyter.widget-view+json": {
       "model_id": "4476bff5d23d426bb0b23e35e436c050",
       "version_major": 2,
       "version_minor": 0
      },
      "text/plain": [
       "interactive(children=(Dropdown(description='features', options=('N', 'P', 'K', 'temperature', 'humidity', 'ph'…"
      ]
     },
     "metadata": {},
     "output_type": "display_data"
    }
   ],
   "source": [
    "@interact\n",
    "def compare(features=['N','P','K','temperature','humidity','ph','rainfall']):\n",
    "    print('average value for ',features,'is {0:2f}'.format(data[features].mean()))"
   ]
  },
  {
   "cell_type": "markdown",
   "id": "e3de6d5c",
   "metadata": {},
   "source": [
    "# average value for each class of crops label by using interactive function"
   ]
  },
  {
   "cell_type": "code",
   "execution_count": 9,
   "id": "79acdcad",
   "metadata": {},
   "outputs": [
    {
     "data": {
      "application/vnd.jupyter.widget-view+json": {
       "model_id": "9034db33558c4d60ab5a04c95497d7ee",
       "version_major": 2,
       "version_minor": 0
      },
      "text/plain": [
       "interactive(children=(Dropdown(description='features', options=('N', 'P', 'K', 'temperature', 'humidity', 'ph'…"
      ]
     },
     "metadata": {},
     "output_type": "display_data"
    }
   ],
   "source": [
    "@interact\n",
    "def compare(features=['N','P','K','temperature','humidity','ph','rainfall']):\n",
    "#     print('average value for ',features,'is {0:2f}'.format(data[features].mean()))\n",
    "    print(f'average for features {data[features].mean().round(2)}')\n",
    "    print(f\"for mungbean :-  {data[data['label']=='mungbean'][features].mean().round(2)}\")\n",
    "    print(f\"for pomegranate :-  {data[data['label']=='pomegranate'][features].mean().round(2)}\")\n",
    "    print(f\"for RICE :-  {data[data['label']=='rice'][features].mean().round(2)}\")\n",
    "    print(f\"for coconut :-  {data[data['label']=='coconut'][features].mean().round(2)}\")\n",
    "    print(f\"for maize :-  {data[data['label']=='maize'][features].mean().round(2)}\")\n",
    "\n",
    "    print(f\"for coffee :-  {data[data['label']=='coffee'][features].mean().round(2)}\")\n",
    "\n",
    "    print(f\"for banana :-  {data[data['label']=='banana'][features].mean().round(2)}\")\n",
    "\n",
    "    print(f\"for kidneybeans :-  {data[data['label']=='kidneybeans'][features].mean().round(2)}\")\n",
    "    print(f\"for grapes :-  {data[data['label']=='grapes'][features].mean().round(2)}\")\n",
    "    print(f\"for blackgram :-  {data[data['label']=='blackgram'][features].mean().round(2)}\")\n",
    "    print(f\"for pigeonpeas :-  {data[data['label']=='pigeonpeas'][features].mean().round(2)}\")\n",
    "    print(f\"for chickpea :-  {data[data['label']=='chickpea'][features].mean().round(2)}\")\n",
    "    print(f\"for mango :-  {data[data['label']=='mango'][features].mean().round(2)}\")\n",
    "    print(f\"for mothbeans :-  {data[data['label']=='mothbeans'][features].mean().round(2)}\")\n",
    "    print(f\"for jute :-  {data[data['label']=='jute'][features].mean().round(2)}\")\n",
    "    print(f\"for apple :-  {data[data['label']=='apple'][features].mean().round(2)}\")\n",
    "    print(f\"for watermelon :-  {data[data['label']=='watermelon'][features].mean().round(2)}\")\n",
    "    print(f\"for muskmelon :-  {data[data['label']=='muskmelon'][features].mean().round(2)}\")\n",
    "    print(f\"for orange :-  {data[data['label']=='orange'][features].mean().round(2)}\")\n",
    "    print(f\"for cotton :-  {data[data['label']=='cotton'][features].mean().round(2)}\")\n",
    "    print(f\"for lentil :-  {data[data['label']=='lentil'][features].mean().round(2)}\")\n",
    "    print(f\"for papaya :-  {data[data['label']=='papaya'][features].mean().round(2)}\")\n",
    "\n",
    "\n"
   ]
  },
  {
   "cell_type": "markdown",
   "id": "548880c9",
   "metadata": {},
   "source": [
    "# what crops grow in greater than average of N,P,K,and so on"
   ]
  },
  {
   "cell_type": "code",
   "execution_count": 10,
   "id": "4b65c960",
   "metadata": {},
   "outputs": [
    {
     "data": {
      "application/vnd.jupyter.widget-view+json": {
       "model_id": "c3540db2a5af4081ba62d4c0b8ed3d4f",
       "version_major": 2,
       "version_minor": 0
      },
      "text/plain": [
       "interactive(children=(Dropdown(description='features', options=('N', 'P', 'K', 'temperature', 'humidity', 'ph'…"
      ]
     },
     "metadata": {},
     "output_type": "display_data"
    }
   ],
   "source": [
    "@interact\n",
    "def less_greater(features=['N','P','K','temperature','humidity','ph','rainfall']):\n",
    "    print('cropps which require greatere than average',features,'\\n')\n",
    "    print(data[data[features] >data[features].mean()]['label'].unique())\n",
    "    print()\n",
    "    print(',,,,,,,,,,,,,,,,,,,,,,,,,,,,,,,,,,,,,,')\n",
    "    print()\n",
    "    print(data[data[features] <=data[features].mean()]['label'].unique())\n"
   ]
  },
  {
   "cell_type": "markdown",
   "id": "f4bab0e5",
   "metadata": {},
   "source": [
    "## 3xplainin9 thi5 function"
   ]
  },
  {
   "cell_type": "code",
   "execution_count": 31,
   "id": "ad7a71ed",
   "metadata": {},
   "outputs": [
    {
     "data": {
      "text/plain": [
       "(899, 8)"
      ]
     },
     "execution_count": 31,
     "metadata": {},
     "output_type": "execute_result"
    }
   ],
   "source": [
    "data[data['N']>50.551818181818184].shape"
   ]
  },
  {
   "cell_type": "code",
   "execution_count": 32,
   "id": "57bc3a44",
   "metadata": {},
   "outputs": [
    {
     "data": {
      "text/plain": [
       "(899, 8)"
      ]
     },
     "execution_count": 32,
     "metadata": {},
     "output_type": "execute_result"
    }
   ],
   "source": [
    "data[data['N'] >data['N'].mean()].shape\n"
   ]
  },
  {
   "cell_type": "code",
   "execution_count": 40,
   "id": "39557c39",
   "metadata": {},
   "outputs": [
    {
     "data": {
      "text/plain": [
       "array(['rice', 'maize', 'chickpea', 'blackgram', 'banana', 'watermelon',\n",
       "       'muskmelon', 'papaya', 'cotton', 'jute', 'coffee'], dtype=object)"
      ]
     },
     "execution_count": 40,
     "metadata": {},
     "output_type": "execute_result"
    }
   ],
   "source": [
    "data[data['N'] >data['N'].mean()]['label'].unique()"
   ]
  },
  {
   "cell_type": "code",
   "execution_count": 41,
   "id": "ed326133",
   "metadata": {},
   "outputs": [
    {
     "data": {
      "text/plain": [
       "11"
      ]
     },
     "execution_count": 41,
     "metadata": {},
     "output_type": "execute_result"
    }
   ],
   "source": [
    "data[data['N'] >data['N'].mean()]['label'].nunique()"
   ]
  },
  {
   "cell_type": "markdown",
   "id": "0a8227b1",
   "metadata": {},
   "source": [
    "# distibutrition plot of every features"
   ]
  },
  {
   "cell_type": "code",
   "execution_count": 11,
   "id": "896fdb1e",
   "metadata": {},
   "outputs": [
    {
     "data": {
      "text/html": [
       "<div>\n",
       "<style scoped>\n",
       "    .dataframe tbody tr th:only-of-type {\n",
       "        vertical-align: middle;\n",
       "    }\n",
       "\n",
       "    .dataframe tbody tr th {\n",
       "        vertical-align: top;\n",
       "    }\n",
       "\n",
       "    .dataframe thead th {\n",
       "        text-align: right;\n",
       "    }\n",
       "</style>\n",
       "<table border=\"1\" class=\"dataframe\">\n",
       "  <thead>\n",
       "    <tr style=\"text-align: right;\">\n",
       "      <th></th>\n",
       "      <th>N</th>\n",
       "      <th>P</th>\n",
       "      <th>K</th>\n",
       "      <th>temperature</th>\n",
       "      <th>humidity</th>\n",
       "      <th>ph</th>\n",
       "      <th>rainfall</th>\n",
       "      <th>label</th>\n",
       "    </tr>\n",
       "  </thead>\n",
       "  <tbody>\n",
       "    <tr>\n",
       "      <th>0</th>\n",
       "      <td>90</td>\n",
       "      <td>42</td>\n",
       "      <td>43</td>\n",
       "      <td>20.879744</td>\n",
       "      <td>82.002744</td>\n",
       "      <td>6.502985</td>\n",
       "      <td>202.935536</td>\n",
       "      <td>rice</td>\n",
       "    </tr>\n",
       "    <tr>\n",
       "      <th>1</th>\n",
       "      <td>85</td>\n",
       "      <td>58</td>\n",
       "      <td>41</td>\n",
       "      <td>21.770462</td>\n",
       "      <td>80.319644</td>\n",
       "      <td>7.038096</td>\n",
       "      <td>226.655537</td>\n",
       "      <td>rice</td>\n",
       "    </tr>\n",
       "    <tr>\n",
       "      <th>2</th>\n",
       "      <td>60</td>\n",
       "      <td>55</td>\n",
       "      <td>44</td>\n",
       "      <td>23.004459</td>\n",
       "      <td>82.320763</td>\n",
       "      <td>7.840207</td>\n",
       "      <td>263.964248</td>\n",
       "      <td>rice</td>\n",
       "    </tr>\n",
       "    <tr>\n",
       "      <th>3</th>\n",
       "      <td>74</td>\n",
       "      <td>35</td>\n",
       "      <td>40</td>\n",
       "      <td>26.491096</td>\n",
       "      <td>80.158363</td>\n",
       "      <td>6.980401</td>\n",
       "      <td>242.864034</td>\n",
       "      <td>rice</td>\n",
       "    </tr>\n",
       "    <tr>\n",
       "      <th>4</th>\n",
       "      <td>78</td>\n",
       "      <td>42</td>\n",
       "      <td>42</td>\n",
       "      <td>20.130175</td>\n",
       "      <td>81.604873</td>\n",
       "      <td>7.628473</td>\n",
       "      <td>262.717340</td>\n",
       "      <td>rice</td>\n",
       "    </tr>\n",
       "    <tr>\n",
       "      <th>...</th>\n",
       "      <td>...</td>\n",
       "      <td>...</td>\n",
       "      <td>...</td>\n",
       "      <td>...</td>\n",
       "      <td>...</td>\n",
       "      <td>...</td>\n",
       "      <td>...</td>\n",
       "      <td>...</td>\n",
       "    </tr>\n",
       "    <tr>\n",
       "      <th>2195</th>\n",
       "      <td>107</td>\n",
       "      <td>34</td>\n",
       "      <td>32</td>\n",
       "      <td>26.774637</td>\n",
       "      <td>66.413269</td>\n",
       "      <td>6.780064</td>\n",
       "      <td>177.774507</td>\n",
       "      <td>coffee</td>\n",
       "    </tr>\n",
       "    <tr>\n",
       "      <th>2196</th>\n",
       "      <td>99</td>\n",
       "      <td>15</td>\n",
       "      <td>27</td>\n",
       "      <td>27.417112</td>\n",
       "      <td>56.636362</td>\n",
       "      <td>6.086922</td>\n",
       "      <td>127.924610</td>\n",
       "      <td>coffee</td>\n",
       "    </tr>\n",
       "    <tr>\n",
       "      <th>2197</th>\n",
       "      <td>118</td>\n",
       "      <td>33</td>\n",
       "      <td>30</td>\n",
       "      <td>24.131797</td>\n",
       "      <td>67.225123</td>\n",
       "      <td>6.362608</td>\n",
       "      <td>173.322839</td>\n",
       "      <td>coffee</td>\n",
       "    </tr>\n",
       "    <tr>\n",
       "      <th>2198</th>\n",
       "      <td>117</td>\n",
       "      <td>32</td>\n",
       "      <td>34</td>\n",
       "      <td>26.272418</td>\n",
       "      <td>52.127394</td>\n",
       "      <td>6.758793</td>\n",
       "      <td>127.175293</td>\n",
       "      <td>coffee</td>\n",
       "    </tr>\n",
       "    <tr>\n",
       "      <th>2199</th>\n",
       "      <td>104</td>\n",
       "      <td>18</td>\n",
       "      <td>30</td>\n",
       "      <td>23.603016</td>\n",
       "      <td>60.396475</td>\n",
       "      <td>6.779833</td>\n",
       "      <td>140.937041</td>\n",
       "      <td>coffee</td>\n",
       "    </tr>\n",
       "  </tbody>\n",
       "</table>\n",
       "<p>2200 rows × 8 columns</p>\n",
       "</div>"
      ],
      "text/plain": [
       "        N   P   K  temperature   humidity        ph    rainfall   label\n",
       "0      90  42  43    20.879744  82.002744  6.502985  202.935536    rice\n",
       "1      85  58  41    21.770462  80.319644  7.038096  226.655537    rice\n",
       "2      60  55  44    23.004459  82.320763  7.840207  263.964248    rice\n",
       "3      74  35  40    26.491096  80.158363  6.980401  242.864034    rice\n",
       "4      78  42  42    20.130175  81.604873  7.628473  262.717340    rice\n",
       "...   ...  ..  ..          ...        ...       ...         ...     ...\n",
       "2195  107  34  32    26.774637  66.413269  6.780064  177.774507  coffee\n",
       "2196   99  15  27    27.417112  56.636362  6.086922  127.924610  coffee\n",
       "2197  118  33  30    24.131797  67.225123  6.362608  173.322839  coffee\n",
       "2198  117  32  34    26.272418  52.127394  6.758793  127.175293  coffee\n",
       "2199  104  18  30    23.603016  60.396475  6.779833  140.937041  coffee\n",
       "\n",
       "[2200 rows x 8 columns]"
      ]
     },
     "execution_count": 11,
     "metadata": {},
     "output_type": "execute_result"
    }
   ],
   "source": [
    "data"
   ]
  },
  {
   "cell_type": "code",
   "execution_count": 15,
   "id": "6af3f10a",
   "metadata": {},
   "outputs": [
    {
     "name": "stderr",
     "output_type": "stream",
     "text": [
      "c:\\users\\dell\\appdata\\local\\programs\\python\\python39\\lib\\site-packages\\seaborn\\distributions.py:2557: FutureWarning: `distplot` is a deprecated function and will be removed in a future version. Please adapt your code to use either `displot` (a figure-level function with similar flexibility) or `histplot` (an axes-level function for histograms).\n",
      "  warnings.warn(msg, FutureWarning)\n",
      "No handles with labels found to put in legend.\n",
      "c:\\users\\dell\\appdata\\local\\programs\\python\\python39\\lib\\site-packages\\seaborn\\distributions.py:2557: FutureWarning: `distplot` is a deprecated function and will be removed in a future version. Please adapt your code to use either `displot` (a figure-level function with similar flexibility) or `histplot` (an axes-level function for histograms).\n",
      "  warnings.warn(msg, FutureWarning)\n",
      "c:\\users\\dell\\appdata\\local\\programs\\python\\python39\\lib\\site-packages\\seaborn\\distributions.py:2557: FutureWarning: `distplot` is a deprecated function and will be removed in a future version. Please adapt your code to use either `displot` (a figure-level function with similar flexibility) or `histplot` (an axes-level function for histograms).\n",
      "  warnings.warn(msg, FutureWarning)\n",
      "c:\\users\\dell\\appdata\\local\\programs\\python\\python39\\lib\\site-packages\\seaborn\\distributions.py:2557: FutureWarning: `distplot` is a deprecated function and will be removed in a future version. Please adapt your code to use either `displot` (a figure-level function with similar flexibility) or `histplot` (an axes-level function for histograms).\n",
      "  warnings.warn(msg, FutureWarning)\n",
      "c:\\users\\dell\\appdata\\local\\programs\\python\\python39\\lib\\site-packages\\seaborn\\distributions.py:2557: FutureWarning: `distplot` is a deprecated function and will be removed in a future version. Please adapt your code to use either `displot` (a figure-level function with similar flexibility) or `histplot` (an axes-level function for histograms).\n",
      "  warnings.warn(msg, FutureWarning)\n",
      "c:\\users\\dell\\appdata\\local\\programs\\python\\python39\\lib\\site-packages\\seaborn\\distributions.py:2557: FutureWarning: `distplot` is a deprecated function and will be removed in a future version. Please adapt your code to use either `displot` (a figure-level function with similar flexibility) or `histplot` (an axes-level function for histograms).\n",
      "  warnings.warn(msg, FutureWarning)\n",
      "c:\\users\\dell\\appdata\\local\\programs\\python\\python39\\lib\\site-packages\\seaborn\\distributions.py:2557: FutureWarning: `distplot` is a deprecated function and will be removed in a future version. Please adapt your code to use either `displot` (a figure-level function with similar flexibility) or `histplot` (an axes-level function for histograms).\n",
      "  warnings.warn(msg, FutureWarning)\n"
     ]
    },
    {
     "data": {
      "text/plain": [
       "<AxesSubplot:xlabel='rainfall', ylabel='Density'>"
      ]
     },
     "execution_count": 15,
     "metadata": {},
     "output_type": "execute_result"
    },
    {
     "data": {
      "image/png": "[encoded data removed]",
      "text/plain": [
       "<Figure size 720x648 with 7 Axes>"
      ]
     },
     "metadata": {},
     "output_type": "display_data"
    }
   ],
   "source": [
    "sns.set(rc={'figure.figsize':(10,9)})\n",
    "plt.subplot(4,2,1)\n",
    "sns.distplot(data['N'],color='g')\n",
    "plt.legend()\n",
    "plt.subplot(4,2,2)\n",
    "sns.distplot(data['P'],color='b')\n",
    "\n",
    "plt.subplot(4,2,3)\n",
    "sns.distplot(data['K'],color='r')\n",
    "\n",
    "plt.subplot(4,2,4)\n",
    "sns.distplot(data['temperature'],color='brown')\n",
    "\n",
    "plt.subplot(4,2,5)\n",
    "sns.distplot(data['humidity'],color='yellow')\n",
    "             \n",
    "\n",
    "plt.subplot(4,2,6)\n",
    "sns.distplot(data['ph'],color='pink')\n",
    "\n",
    "plt.subplot(4,2,7)\n",
    "sns.distplot(data['rainfall'])\n",
    "\n"
   ]
  },
  {
   "cell_type": "code",
   "execution_count": 20,
   "id": "8d6c8fd2",
   "metadata": {},
   "outputs": [
    {
     "name": "stdout",
     "output_type": "stream",
     "text": [
      "summer crops\n",
      "['pigeonpeas' 'mothbeans' 'blackgram' 'mango' 'grapes' 'orange' 'papaya']\n",
      "...............................\n",
      "winter crops\n",
      "['maize' 'pigeonpeas' 'lentil' 'pomegranate' 'grapes' 'orange']\n",
      ",,,,,,,,,,,,,,,,,,,,,,,,,,,,\n",
      "Rainy crops\n",
      "['rice' 'papaya' 'coconut']\n"
     ]
    }
   ],
   "source": [
    "print('summer crops')\n",
    "print(data[(data['temperature']>30)&(data['humidity']>50)]['label'].unique())\n",
    "print('...............................')\n",
    "print('winter crops')\n",
    "print(data[(data['temperature']<20)&(data['humidity']>30)]['label'].unique())\n",
    "print(',,,,,,,,,,,,,,,,,,,,,,,,,,,,')\n",
    "print('Rainy crops')\n",
    "print(data[(data['rainfall']>200)&(data['humidity']>30)]['label'].unique())"
   ]
  },
  {
   "cell_type": "markdown",
   "id": "ab51fb24",
   "metadata": {},
   "source": [
    "## import the clustering KMeans algorithium\n",
    "we will do clustering analysis"
   ]
  },
  {
   "cell_type": "code",
   "execution_count": 21,
   "id": "becfd707",
   "metadata": {},
   "outputs": [],
   "source": [
    "from sklearn.cluster import KMeans"
   ]
  },
  {
   "cell_type": "code",
   "execution_count": 22,
   "id": "4e1684ad",
   "metadata": {},
   "outputs": [],
   "source": [
    "x=data.drop(['label'],axis=1)"
   ]
  },
  {
   "cell_type": "code",
   "execution_count": 23,
   "id": "30cca434",
   "metadata": {},
   "outputs": [
    {
     "data": {
      "text/html": [
       "<div>\n",
       "<style scoped>\n",
       "    .dataframe tbody tr th:only-of-type {\n",
       "        vertical-align: middle;\n",
       "    }\n",
       "\n",
       "    .dataframe tbody tr th {\n",
       "        vertical-align: top;\n",
       "    }\n",
       "\n",
       "    .dataframe thead th {\n",
       "        text-align: right;\n",
       "    }\n",
       "</style>\n",
       "<table border=\"1\" class=\"dataframe\">\n",
       "  <thead>\n",
       "    <tr style=\"text-align: right;\">\n",
       "      <th></th>\n",
       "      <th>N</th>\n",
       "      <th>P</th>\n",
       "      <th>K</th>\n",
       "      <th>temperature</th>\n",
       "      <th>humidity</th>\n",
       "      <th>ph</th>\n",
       "      <th>rainfall</th>\n",
       "    </tr>\n",
       "  </thead>\n",
       "  <tbody>\n",
       "    <tr>\n",
       "      <th>0</th>\n",
       "      <td>90</td>\n",
       "      <td>42</td>\n",
       "      <td>43</td>\n",
       "      <td>20.879744</td>\n",
       "      <td>82.002744</td>\n",
       "      <td>6.502985</td>\n",
       "      <td>202.935536</td>\n",
       "    </tr>\n",
       "    <tr>\n",
       "      <th>1</th>\n",
       "      <td>85</td>\n",
       "      <td>58</td>\n",
       "      <td>41</td>\n",
       "      <td>21.770462</td>\n",
       "      <td>80.319644</td>\n",
       "      <td>7.038096</td>\n",
       "      <td>226.655537</td>\n",
       "    </tr>\n",
       "    <tr>\n",
       "      <th>2</th>\n",
       "      <td>60</td>\n",
       "      <td>55</td>\n",
       "      <td>44</td>\n",
       "      <td>23.004459</td>\n",
       "      <td>82.320763</td>\n",
       "      <td>7.840207</td>\n",
       "      <td>263.964248</td>\n",
       "    </tr>\n",
       "    <tr>\n",
       "      <th>3</th>\n",
       "      <td>74</td>\n",
       "      <td>35</td>\n",
       "      <td>40</td>\n",
       "      <td>26.491096</td>\n",
       "      <td>80.158363</td>\n",
       "      <td>6.980401</td>\n",
       "      <td>242.864034</td>\n",
       "    </tr>\n",
       "    <tr>\n",
       "      <th>4</th>\n",
       "      <td>78</td>\n",
       "      <td>42</td>\n",
       "      <td>42</td>\n",
       "      <td>20.130175</td>\n",
       "      <td>81.604873</td>\n",
       "      <td>7.628473</td>\n",
       "      <td>262.717340</td>\n",
       "    </tr>\n",
       "  </tbody>\n",
       "</table>\n",
       "</div>"
      ],
      "text/plain": [
       "    N   P   K  temperature   humidity        ph    rainfall\n",
       "0  90  42  43    20.879744  82.002744  6.502985  202.935536\n",
       "1  85  58  41    21.770462  80.319644  7.038096  226.655537\n",
       "2  60  55  44    23.004459  82.320763  7.840207  263.964248\n",
       "3  74  35  40    26.491096  80.158363  6.980401  242.864034\n",
       "4  78  42  42    20.130175  81.604873  7.628473  262.717340"
      ]
     },
     "execution_count": 23,
     "metadata": {},
     "output_type": "execute_result"
    }
   ],
   "source": [
    "x.head()"
   ]
  },
  {
   "cell_type": "code",
   "execution_count": 24,
   "id": "a1792197",
   "metadata": {},
   "outputs": [],
   "source": [
    "x=x.values"
   ]
  },
  {
   "cell_type": "code",
   "execution_count": 25,
   "id": "ff44f6e9",
   "metadata": {},
   "outputs": [
    {
     "data": {
      "text/plain": [
       "array([[ 90.        ,  42.        ,  43.        , ...,  82.00274423,\n",
       "          6.50298529, 202.9355362 ],\n",
       "       [ 85.        ,  58.        ,  41.        , ...,  80.31964408,\n",
       "          7.03809636, 226.6555374 ],\n",
       "       [ 60.        ,  55.        ,  44.        , ...,  82.3207629 ,\n",
       "          7.84020714, 263.9642476 ],\n",
       "       ...,\n",
       "       [118.        ,  33.        ,  30.        , ...,  67.22512329,\n",
       "          6.36260785, 173.3228386 ],\n",
       "       [117.        ,  32.        ,  34.        , ...,  52.12739421,\n",
       "          6.75879255, 127.1752928 ],\n",
       "       [104.        ,  18.        ,  30.        , ...,  60.39647474,\n",
       "          6.77983261, 140.9370415 ]])"
      ]
     },
     "execution_count": 25,
     "metadata": {},
     "output_type": "execute_result"
    }
   ],
   "source": [
    "x"
   ]
  },
  {
   "cell_type": "code",
   "execution_count": 26,
   "id": "1f6e9b3d",
   "metadata": {},
   "outputs": [
    {
     "data": {
      "text/plain": [
       "(2200, 7)"
      ]
     },
     "execution_count": 26,
     "metadata": {},
     "output_type": "execute_result"
    }
   ],
   "source": [
    "x.shape"
   ]
  },
  {
   "cell_type": "markdown",
   "id": "187fcdd5",
   "metadata": {},
   "source": [
    "## how many cluster need in this algorithium check by using elbow method"
   ]
  },
  {
   "cell_type": "code",
   "execution_count": 100,
   "id": "4b9efa3c",
   "metadata": {},
   "outputs": [
    {
     "data": {
      "image/png": "[encoded data removed]",
      "text/plain": [
       "<Figure size 720x288 with 1 Axes>"
      ]
     },
     "metadata": {},
     "output_type": "display_data"
    }
   ],
   "source": [
    "plt.rcParams['figure.figsize']=(10,4)\n",
    "wcss=[]\n",
    "for i in range(1,11):\n",
    "    km=KMeans(n_clusters=i,init='k-means++',max_iter=300,n_init=10,random_state=0)\n",
    "    km.fit(x)\n",
    "    wcss.append(km.inertia_)\n",
    "# lets the plot\n",
    "plt.plot(range(1,11),wcss)\n",
    "plt.title('the elbow method',fontsize=21)\n",
    "plt.xlabel('no of clusters')\n",
    "plt.ylabel('wcss')\n",
    "plt.show()"
   ]
  },
  {
   "cell_type": "markdown",
   "id": "3c424428",
   "metadata": {},
   "source": [
    "## select the last elbow it means , i need to 4 clusters"
   ]
  },
  {
   "cell_type": "code",
   "execution_count": 33,
   "id": "6f979bdb",
   "metadata": {},
   "outputs": [
    {
     "data": {
      "text/plain": [
       "10"
      ]
     },
     "execution_count": 33,
     "metadata": {},
     "output_type": "execute_result"
    }
   ],
   "source": [
    "len(wcss)"
   ]
  },
  {
   "cell_type": "code",
   "execution_count": 34,
   "id": "71792f2d",
   "metadata": {},
   "outputs": [
    {
     "data": {
      "text/plain": [
       "[18820170.463645905,\n",
       " 12070916.353533493,\n",
       " 7423970.865410885,\n",
       " 5337369.95029839,\n",
       " 4417511.116768213,\n",
       " 3748646.207999499,\n",
       " 3122776.0933495285,\n",
       " 2727858.093756842,\n",
       " 2374020.036785366,\n",
       " 2132297.3163274406]"
      ]
     },
     "execution_count": 34,
     "metadata": {},
     "output_type": "execute_result"
    }
   ],
   "source": [
    "wcss"
   ]
  },
  {
   "cell_type": "code",
   "execution_count": 109,
   "id": "b7bb34dc",
   "metadata": {},
   "outputs": [
    {
     "data": {
      "image/png": "[encoded data removed]",
      "text/plain": [
       "<Figure size 720x288 with 1 Axes>"
      ]
     },
     "metadata": {},
     "output_type": "display_data"
    }
   ],
   "source": [
    "sns.set(style='ticks')\n",
    "plt.plot(wcss,marker='*',ms=18,mfc='r')          # simplifie\n",
    "plt.title('find the elbow',fontsize=25,color='k')\n",
    "plt.show()"
   ]
  },
  {
   "cell_type": "markdown",
   "id": "c2186fcb",
   "metadata": {},
   "source": [
    "## apply the clustering analysis"
   ]
  },
  {
   "cell_type": "code",
   "execution_count": 40,
   "id": "b95619ac",
   "metadata": {},
   "outputs": [],
   "source": [
    "km=KMeans(n_clusters=4,init='k-means++',max_iter=300,n_init=10,random_state=0)\n"
   ]
  },
  {
   "cell_type": "code",
   "execution_count": 41,
   "id": "fc9f4e4f",
   "metadata": {},
   "outputs": [],
   "source": [
    "y_means=km.fit_predict(x)"
   ]
  },
  {
   "cell_type": "code",
   "execution_count": 42,
   "id": "1a7943f4",
   "metadata": {},
   "outputs": [
    {
     "data": {
      "text/plain": [
       "array([3, 3, 3, ..., 3, 1, 3])"
      ]
     },
     "execution_count": 42,
     "metadata": {},
     "output_type": "execute_result"
    }
   ],
   "source": [
    "y_means"
   ]
  },
  {
   "cell_type": "code",
   "execution_count": 43,
   "id": "92d95380",
   "metadata": {},
   "outputs": [
    {
     "data": {
      "text/plain": [
       "(2200,)"
      ]
     },
     "execution_count": 43,
     "metadata": {},
     "output_type": "execute_result"
    }
   ],
   "source": [
    "y_means.shape"
   ]
  },
  {
   "cell_type": "code",
   "execution_count": 44,
   "id": "18cf5cf2",
   "metadata": {},
   "outputs": [],
   "source": [
    "y_means=pd.DataFrame(y_means)"
   ]
  },
  {
   "cell_type": "code",
   "execution_count": 46,
   "id": "ec75a680",
   "metadata": {},
   "outputs": [
    {
     "data": {
      "text/html": [
       "<div>\n",
       "<style scoped>\n",
       "    .dataframe tbody tr th:only-of-type {\n",
       "        vertical-align: middle;\n",
       "    }\n",
       "\n",
       "    .dataframe tbody tr th {\n",
       "        vertical-align: top;\n",
       "    }\n",
       "\n",
       "    .dataframe thead th {\n",
       "        text-align: right;\n",
       "    }\n",
       "</style>\n",
       "<table border=\"1\" class=\"dataframe\">\n",
       "  <thead>\n",
       "    <tr style=\"text-align: right;\">\n",
       "      <th></th>\n",
       "      <th>0</th>\n",
       "    </tr>\n",
       "  </thead>\n",
       "  <tbody>\n",
       "    <tr>\n",
       "      <th>0</th>\n",
       "      <td>3</td>\n",
       "    </tr>\n",
       "    <tr>\n",
       "      <th>1</th>\n",
       "      <td>3</td>\n",
       "    </tr>\n",
       "    <tr>\n",
       "      <th>2</th>\n",
       "      <td>3</td>\n",
       "    </tr>\n",
       "    <tr>\n",
       "      <th>3</th>\n",
       "      <td>3</td>\n",
       "    </tr>\n",
       "    <tr>\n",
       "      <th>4</th>\n",
       "      <td>3</td>\n",
       "    </tr>\n",
       "  </tbody>\n",
       "</table>\n",
       "</div>"
      ],
      "text/plain": [
       "   0\n",
       "0  3\n",
       "1  3\n",
       "2  3\n",
       "3  3\n",
       "4  3"
      ]
     },
     "execution_count": 46,
     "metadata": {},
     "output_type": "execute_result"
    }
   ],
   "source": [
    "y_means.head()"
   ]
  },
  {
   "cell_type": "code",
   "execution_count": 48,
   "id": "d5345c10",
   "metadata": {},
   "outputs": [
    {
     "data": {
      "text/plain": [
       "0    1009\n",
       "1     517\n",
       "3     474\n",
       "2     200\n",
       "Name: 0, dtype: int64"
      ]
     },
     "execution_count": 48,
     "metadata": {},
     "output_type": "execute_result"
    }
   ],
   "source": [
    "y_means[0].value_counts() # i have 4 clusters"
   ]
  },
  {
   "cell_type": "code",
   "execution_count": 49,
   "id": "a5ebdc34",
   "metadata": {},
   "outputs": [
    {
     "data": {
      "text/plain": [
       "2200"
      ]
     },
     "execution_count": 49,
     "metadata": {},
     "output_type": "execute_result"
    }
   ],
   "source": [
    "y_means[0].value_counts().sum()"
   ]
  },
  {
   "cell_type": "code",
   "execution_count": 51,
   "id": "db45def0",
   "metadata": {},
   "outputs": [
    {
     "data": {
      "text/plain": [
       "2200"
      ]
     },
     "execution_count": 51,
     "metadata": {},
     "output_type": "execute_result"
    }
   ],
   "source": [
    "data.shape[0]"
   ]
  },
  {
   "cell_type": "code",
   "execution_count": 53,
   "id": "213c85c7",
   "metadata": {},
   "outputs": [],
   "source": [
    "label=data['label']"
   ]
  },
  {
   "cell_type": "code",
   "execution_count": 54,
   "id": "f41af603",
   "metadata": {},
   "outputs": [
    {
     "data": {
      "text/plain": [
       "0         rice\n",
       "1         rice\n",
       "2         rice\n",
       "3         rice\n",
       "4         rice\n",
       "         ...  \n",
       "2195    coffee\n",
       "2196    coffee\n",
       "2197    coffee\n",
       "2198    coffee\n",
       "2199    coffee\n",
       "Name: label, Length: 2200, dtype: object"
      ]
     },
     "execution_count": 54,
     "metadata": {},
     "output_type": "execute_result"
    }
   ],
   "source": [
    "label"
   ]
  },
  {
   "cell_type": "code",
   "execution_count": 57,
   "id": "00c361a0",
   "metadata": {},
   "outputs": [
    {
     "data": {
      "text/html": [
       "<div>\n",
       "<style scoped>\n",
       "    .dataframe tbody tr th:only-of-type {\n",
       "        vertical-align: middle;\n",
       "    }\n",
       "\n",
       "    .dataframe tbody tr th {\n",
       "        vertical-align: top;\n",
       "    }\n",
       "\n",
       "    .dataframe thead th {\n",
       "        text-align: right;\n",
       "    }\n",
       "</style>\n",
       "<table border=\"1\" class=\"dataframe\">\n",
       "  <thead>\n",
       "    <tr style=\"text-align: right;\">\n",
       "      <th></th>\n",
       "      <th>0</th>\n",
       "      <th>label</th>\n",
       "    </tr>\n",
       "  </thead>\n",
       "  <tbody>\n",
       "    <tr>\n",
       "      <th>0</th>\n",
       "      <td>3</td>\n",
       "      <td>rice</td>\n",
       "    </tr>\n",
       "    <tr>\n",
       "      <th>1</th>\n",
       "      <td>3</td>\n",
       "      <td>rice</td>\n",
       "    </tr>\n",
       "    <tr>\n",
       "      <th>2</th>\n",
       "      <td>3</td>\n",
       "      <td>rice</td>\n",
       "    </tr>\n",
       "    <tr>\n",
       "      <th>3</th>\n",
       "      <td>3</td>\n",
       "      <td>rice</td>\n",
       "    </tr>\n",
       "    <tr>\n",
       "      <th>4</th>\n",
       "      <td>3</td>\n",
       "      <td>rice</td>\n",
       "    </tr>\n",
       "  </tbody>\n",
       "</table>\n",
       "</div>"
      ],
      "text/plain": [
       "   0 label\n",
       "0  3  rice\n",
       "1  3  rice\n",
       "2  3  rice\n",
       "3  3  rice\n",
       "4  3  rice"
      ]
     },
     "execution_count": 57,
     "metadata": {},
     "output_type": "execute_result"
    }
   ],
   "source": [
    "df=pd.concat([y_means,label],axis=1)\n",
    "df.head()"
   ]
  },
  {
   "cell_type": "code",
   "execution_count": 60,
   "id": "166ee062",
   "metadata": {},
   "outputs": [],
   "source": [
    "df=df.rename({0:'cluster'},axis=1)"
   ]
  },
  {
   "cell_type": "code",
   "execution_count": 61,
   "id": "96f95dc1",
   "metadata": {},
   "outputs": [
    {
     "data": {
      "text/html": [
       "<div>\n",
       "<style scoped>\n",
       "    .dataframe tbody tr th:only-of-type {\n",
       "        vertical-align: middle;\n",
       "    }\n",
       "\n",
       "    .dataframe tbody tr th {\n",
       "        vertical-align: top;\n",
       "    }\n",
       "\n",
       "    .dataframe thead th {\n",
       "        text-align: right;\n",
       "    }\n",
       "</style>\n",
       "<table border=\"1\" class=\"dataframe\">\n",
       "  <thead>\n",
       "    <tr style=\"text-align: right;\">\n",
       "      <th></th>\n",
       "      <th>cluster</th>\n",
       "      <th>label</th>\n",
       "    </tr>\n",
       "  </thead>\n",
       "  <tbody>\n",
       "    <tr>\n",
       "      <th>cluster</th>\n",
       "      <td>3</td>\n",
       "      <td>rice</td>\n",
       "    </tr>\n",
       "    <tr>\n",
       "      <th>1</th>\n",
       "      <td>3</td>\n",
       "      <td>rice</td>\n",
       "    </tr>\n",
       "    <tr>\n",
       "      <th>2</th>\n",
       "      <td>3</td>\n",
       "      <td>rice</td>\n",
       "    </tr>\n",
       "    <tr>\n",
       "      <th>3</th>\n",
       "      <td>3</td>\n",
       "      <td>rice</td>\n",
       "    </tr>\n",
       "    <tr>\n",
       "      <th>4</th>\n",
       "      <td>3</td>\n",
       "      <td>rice</td>\n",
       "    </tr>\n",
       "  </tbody>\n",
       "</table>\n",
       "</div>"
      ],
      "text/plain": [
       "         cluster label\n",
       "cluster        3  rice\n",
       "1              3  rice\n",
       "2              3  rice\n",
       "3              3  rice\n",
       "4              3  rice"
      ]
     },
     "execution_count": 61,
     "metadata": {},
     "output_type": "execute_result"
    }
   ],
   "source": [
    "df.head()\n",
    "# i made a mistake by mistake we has done inplace true in index okay lets keep on"
   ]
  },
  {
   "cell_type": "code",
   "execution_count": 62,
   "id": "7264fffe",
   "metadata": {},
   "outputs": [
    {
     "data": {
      "text/plain": [
       "Index(['cluster',         1,         2,         3,         4,         5,\n",
       "               6,         7,         8,         9,\n",
       "       ...\n",
       "            2190,      2191,      2192,      2193,      2194,      2195,\n",
       "            2196,      2197,      2198,      2199],\n",
       "      dtype='object', length=2200)"
      ]
     },
     "execution_count": 62,
     "metadata": {},
     "output_type": "execute_result"
    }
   ],
   "source": [
    "df.index"
   ]
  },
  {
   "cell_type": "code",
   "execution_count": 65,
   "id": "3c93f790",
   "metadata": {},
   "outputs": [
    {
     "data": {
      "text/plain": [
       "array(['maize', 'chickpea', 'kidneybeans', 'pigeonpeas', 'mothbeans',\n",
       "       'mungbean', 'blackgram', 'lentil', 'pomegranate', 'mango',\n",
       "       'orange', 'papaya', 'coconut'], dtype=object)"
      ]
     },
     "execution_count": 65,
     "metadata": {},
     "output_type": "execute_result"
    }
   ],
   "source": [
    "df[df['cluster']==0]['label'].unique()"
   ]
  },
  {
   "cell_type": "code",
   "execution_count": 66,
   "id": "da7656be",
   "metadata": {},
   "outputs": [
    {
     "data": {
      "text/plain": [
       "array(['maize', 'banana', 'watermelon', 'muskmelon', 'papaya', 'cotton',\n",
       "       'coffee'], dtype=object)"
      ]
     },
     "execution_count": 66,
     "metadata": {},
     "output_type": "execute_result"
    }
   ],
   "source": [
    "df[df['cluster']==1]['label'].unique()"
   ]
  },
  {
   "cell_type": "code",
   "execution_count": 67,
   "id": "cf6f52c6",
   "metadata": {},
   "outputs": [
    {
     "data": {
      "text/plain": [
       "array(['grapes', 'apple'], dtype=object)"
      ]
     },
     "execution_count": 67,
     "metadata": {},
     "output_type": "execute_result"
    }
   ],
   "source": [
    "df[df['cluster']==2]['label'].unique()"
   ]
  },
  {
   "cell_type": "code",
   "execution_count": 68,
   "id": "7e1b7d19",
   "metadata": {},
   "outputs": [
    {
     "data": {
      "text/plain": [
       "array(['rice', 'pigeonpeas', 'papaya', 'coconut', 'jute', 'coffee'],\n",
       "      dtype=object)"
      ]
     },
     "execution_count": 68,
     "metadata": {},
     "output_type": "execute_result"
    }
   ],
   "source": [
    "df[df['cluster']==3]['label'].unique()"
   ]
  },
  {
   "cell_type": "markdown",
   "id": "5b05e066",
   "metadata": {},
   "source": [
    "# start the predictive model training "
   ]
  },
  {
   "cell_type": "code",
   "execution_count": 3,
   "id": "8b386204",
   "metadata": {},
   "outputs": [
    {
     "data": {
      "text/plain": [
       "maize          100\n",
       "cotton         100\n",
       "mothbeans      100\n",
       "jute           100\n",
       "kidneybeans    100\n",
       "mango          100\n",
       "orange         100\n",
       "grapes         100\n",
       "coconut        100\n",
       "lentil         100\n",
       "muskmelon      100\n",
       "watermelon     100\n",
       "coffee         100\n",
       "pomegranate    100\n",
       "blackgram      100\n",
       "papaya         100\n",
       "banana         100\n",
       "apple          100\n",
       "chickpea       100\n",
       "pigeonpeas     100\n",
       "mungbean       100\n",
       "rice           100\n",
       "Name: label, dtype: int64"
      ]
     },
     "execution_count": 3,
     "metadata": {},
     "output_type": "execute_result"
    }
   ],
   "source": [
    "data['label'].value_counts()"
   ]
  },
  {
   "cell_type": "code",
   "execution_count": 4,
   "id": "899b8f83",
   "metadata": {},
   "outputs": [
    {
     "data": {
      "text/plain": [
       "N              0\n",
       "P              0\n",
       "K              0\n",
       "temperature    0\n",
       "humidity       0\n",
       "ph             0\n",
       "rainfall       0\n",
       "label          0\n",
       "dtype: int64"
      ]
     },
     "execution_count": 4,
     "metadata": {},
     "output_type": "execute_result"
    }
   ],
   "source": [
    "data.isnull().sum()"
   ]
  },
  {
   "cell_type": "code",
   "execution_count": 69,
   "id": "1142b2c3",
   "metadata": {},
   "outputs": [],
   "source": [
    "x=data.drop(columns=['label'],axis=1)\n",
    "y=data[['label']]"
   ]
  },
  {
   "cell_type": "code",
   "execution_count": 70,
   "id": "c8c3afb7",
   "metadata": {},
   "outputs": [],
   "source": [
    "from sklearn.model_selection import train_test_split"
   ]
  },
  {
   "cell_type": "code",
   "execution_count": 72,
   "id": "7ac4a942",
   "metadata": {},
   "outputs": [],
   "source": [
    "x_train,x_test,y_train,y_test=train_test_split(x,y,test_size=0.2,random_state=31)"
   ]
  },
  {
   "cell_type": "code",
   "execution_count": 73,
   "id": "45685a06",
   "metadata": {},
   "outputs": [
    {
     "data": {
      "text/plain": [
       "((440, 1), (1760, 1))"
      ]
     },
     "execution_count": 73,
     "metadata": {},
     "output_type": "execute_result"
    }
   ],
   "source": [
    "y_test.shape,y_train.shape"
   ]
  },
  {
   "cell_type": "code",
   "execution_count": null,
   "id": "bda77c35",
   "metadata": {},
   "outputs": [],
   "source": []
  },
  {
   "cell_type": "code",
   "execution_count": 74,
   "id": "ed019b4f",
   "metadata": {},
   "outputs": [],
   "source": [
    "from sklearn.linear_model import LogisticRegression"
   ]
  },
  {
   "cell_type": "code",
   "execution_count": 75,
   "id": "f5fb322a",
   "metadata": {},
   "outputs": [],
   "source": [
    "lr=LogisticRegression()"
   ]
  },
  {
   "cell_type": "code",
   "execution_count": 76,
   "id": "d8ce0820",
   "metadata": {},
   "outputs": [
    {
     "name": "stderr",
     "output_type": "stream",
     "text": [
      "c:\\users\\dell\\appdata\\local\\programs\\python\\python39\\lib\\site-packages\\sklearn\\utils\\validation.py:63: DataConversionWarning: A column-vector y was passed when a 1d array was expected. Please change the shape of y to (n_samples, ), for example using ravel().\n",
      "  return f(*args, **kwargs)\n",
      "c:\\users\\dell\\appdata\\local\\programs\\python\\python39\\lib\\site-packages\\sklearn\\linear_model\\_logistic.py:763: ConvergenceWarning: lbfgs failed to converge (status=1):\n",
      "STOP: TOTAL NO. of ITERATIONS REACHED LIMIT.\n",
      "\n",
      "Increase the number of iterations (max_iter) or scale the data as shown in:\n",
      "    https://scikit-learn.org/stable/modules/preprocessing.html\n",
      "Please also refer to the documentation for alternative solver options:\n",
      "    https://scikit-learn.org/stable/modules/linear_model.html#logistic-regression\n",
      "  n_iter_i = _check_optimize_result(\n"
     ]
    },
    {
     "data": {
      "text/plain": [
       "LogisticRegression()"
      ]
     },
     "execution_count": 76,
     "metadata": {},
     "output_type": "execute_result"
    }
   ],
   "source": [
    "lr.fit(x_train,y_train)"
   ]
  },
  {
   "cell_type": "code",
   "execution_count": 77,
   "id": "4ce0022e",
   "metadata": {},
   "outputs": [
    {
     "data": {
      "text/plain": [
       "0.9477272727272728"
      ]
     },
     "execution_count": 77,
     "metadata": {},
     "output_type": "execute_result"
    }
   ],
   "source": [
    "lr.score(x_test,y_test)                   # accuracy by using LogisticRegressor"
   ]
  },
  {
   "cell_type": "code",
   "execution_count": 78,
   "id": "6d997b11",
   "metadata": {},
   "outputs": [
    {
     "data": {
      "text/plain": [
       "(440,)"
      ]
     },
     "execution_count": 78,
     "metadata": {},
     "output_type": "execute_result"
    }
   ],
   "source": [
    "lr.predict(x_test).shape"
   ]
  },
  {
   "cell_type": "code",
   "execution_count": 79,
   "id": "ad0ecb0d",
   "metadata": {},
   "outputs": [
    {
     "data": {
      "text/plain": [
       "array(['mango', 'pigeonpeas', 'orange', 'cotton', 'mungbean', 'coconut',\n",
       "       'pigeonpeas', 'maize', 'watermelon', 'mango', 'apple', 'chickpea',\n",
       "       'pomegranate', 'coffee', 'papaya', 'grapes', 'apple', 'coconut',\n",
       "       'papaya', 'rice', 'jute', 'grapes', 'lentil', 'cotton', 'maize',\n",
       "       'coconut', 'pomegranate', 'mango', 'watermelon', 'jute', 'coconut',\n",
       "       'kidneybeans', 'banana', 'coconut', 'rice', 'pomegranate',\n",
       "       'blackgram', 'blackgram', 'pomegranate', 'jute', 'rice', 'lentil',\n",
       "       'papaya', 'pomegranate', 'kidneybeans', 'mungbean', 'chickpea',\n",
       "       'watermelon', 'lentil', 'coconut', 'mango', 'apple', 'grapes',\n",
       "       'blackgram', 'maize', 'muskmelon', 'mungbean', 'muskmelon',\n",
       "       'muskmelon', 'pomegranate', 'kidneybeans', 'lentil', 'rice',\n",
       "       'coconut', 'pigeonpeas', 'rice', 'grapes', 'coconut', 'coffee',\n",
       "       'maize', 'jute', 'pigeonpeas', 'mango', 'rice', 'rice',\n",
       "       'muskmelon', 'rice', 'jute', 'cotton', 'banana', 'coconut',\n",
       "       'mothbeans', 'maize', 'orange', 'mungbean', 'apple', 'papaya',\n",
       "       'papaya', 'jute', 'coconut', 'blackgram', 'orange', 'rice',\n",
       "       'muskmelon', 'chickpea', 'mungbean', 'grapes', 'mungbean',\n",
       "       'coffee', 'papaya', 'mango', 'apple', 'banana', 'cotton', 'cotton',\n",
       "       'rice', 'cotton', 'watermelon', 'pigeonpeas', 'kidneybeans',\n",
       "       'muskmelon', 'lentil', 'watermelon', 'apple', 'watermelon',\n",
       "       'cotton', 'muskmelon', 'apple', 'muskmelon', 'jute', 'mango',\n",
       "       'maize', 'blackgram', 'papaya', 'rice', 'coffee', 'apple',\n",
       "       'coffee', 'lentil', 'kidneybeans', 'lentil', 'cotton', 'grapes',\n",
       "       'mothbeans', 'mango', 'apple', 'chickpea', 'cotton', 'banana',\n",
       "       'pomegranate', 'watermelon', 'chickpea', 'coffee', 'papaya',\n",
       "       'muskmelon', 'banana', 'watermelon', 'coconut', 'muskmelon',\n",
       "       'chickpea', 'apple', 'jute', 'lentil', 'pigeonpeas', 'cotton',\n",
       "       'mango', 'cotton', 'pomegranate', 'pomegranate', 'maize',\n",
       "       'blackgram', 'coffee', 'coconut', 'papaya', 'chickpea',\n",
       "       'pigeonpeas', 'mungbean', 'apple', 'chickpea', 'watermelon',\n",
       "       'watermelon', 'jute', 'rice', 'papaya', 'mothbeans', 'chickpea',\n",
       "       'watermelon', 'banana', 'kidneybeans', 'kidneybeans', 'lentil',\n",
       "       'coconut', 'muskmelon', 'coconut', 'maize', 'kidneybeans',\n",
       "       'pigeonpeas', 'coffee', 'coffee', 'chickpea', 'mungbean', 'banana',\n",
       "       'pomegranate', 'watermelon', 'jute', 'banana', 'coconut', 'maize',\n",
       "       'lentil', 'watermelon', 'chickpea', 'jute', 'mungbean', 'lentil',\n",
       "       'papaya', 'watermelon', 'jute', 'rice', 'jute', 'watermelon',\n",
       "       'muskmelon', 'banana', 'mango', 'cotton', 'apple', 'watermelon',\n",
       "       'kidneybeans', 'watermelon', 'apple', 'lentil', 'maize', 'coffee',\n",
       "       'apple', 'grapes', 'chickpea', 'muskmelon', 'apple', 'banana',\n",
       "       'watermelon', 'coffee', 'muskmelon', 'banana', 'kidneybeans',\n",
       "       'lentil', 'jute', 'maize', 'pomegranate', 'grapes', 'coffee',\n",
       "       'kidneybeans', 'orange', 'cotton', 'chickpea', 'rice', 'jute',\n",
       "       'jute', 'orange', 'maize', 'pigeonpeas', 'maize', 'coffee',\n",
       "       'mungbean', 'coffee', 'rice', 'orange', 'jute', 'mothbeans',\n",
       "       'maize', 'lentil', 'banana', 'mothbeans', 'maize', 'lentil',\n",
       "       'mungbean', 'watermelon', 'coconut', 'lentil', 'blackgram',\n",
       "       'coconut', 'muskmelon', 'grapes', 'grapes', 'apple', 'pomegranate',\n",
       "       'blackgram', 'chickpea', 'jute', 'kidneybeans', 'blackgram',\n",
       "       'lentil', 'papaya', 'lentil', 'coconut', 'muskmelon', 'blackgram',\n",
       "       'pigeonpeas', 'muskmelon', 'mungbean', 'coffee', 'jute',\n",
       "       'watermelon', 'maize', 'coconut', 'papaya', 'coconut', 'mothbeans',\n",
       "       'orange', 'pigeonpeas', 'maize', 'apple', 'mothbeans', 'blackgram',\n",
       "       'orange', 'lentil', 'apple', 'mango', 'apple', 'kidneybeans',\n",
       "       'chickpea', 'pigeonpeas', 'chickpea', 'maize', 'mothbeans',\n",
       "       'maize', 'pomegranate', 'coffee', 'maize', 'pigeonpeas', 'mango',\n",
       "       'papaya', 'maize', 'pomegranate', 'orange', 'watermelon', 'banana',\n",
       "       'watermelon', 'jute', 'banana', 'banana', 'coffee', 'mango',\n",
       "       'chickpea', 'mothbeans', 'blackgram', 'banana', 'pigeonpeas',\n",
       "       'mothbeans', 'chickpea', 'pomegranate', 'muskmelon', 'rice',\n",
       "       'rice', 'chickpea', 'papaya', 'watermelon', 'jute', 'mango',\n",
       "       'rice', 'orange', 'maize', 'coffee', 'mango', 'papaya',\n",
       "       'muskmelon', 'mango', 'jute', 'coconut', 'watermelon', 'blackgram',\n",
       "       'mungbean', 'mango', 'watermelon', 'chickpea', 'cotton',\n",
       "       'mungbean', 'pigeonpeas', 'mothbeans', 'chickpea', 'mungbean',\n",
       "       'pigeonpeas', 'chickpea', 'mango', 'muskmelon', 'banana', 'apple',\n",
       "       'rice', 'orange', 'cotton', 'pigeonpeas', 'pomegranate',\n",
       "       'watermelon', 'blackgram', 'maize', 'maize', 'grapes',\n",
       "       'pigeonpeas', 'papaya', 'kidneybeans', 'pomegranate', 'coffee',\n",
       "       'papaya', 'banana', 'rice', 'papaya', 'rice', 'blackgram', 'jute',\n",
       "       'mothbeans', 'chickpea', 'kidneybeans', 'pomegranate', 'papaya',\n",
       "       'rice', 'coffee', 'cotton', 'jute', 'mango', 'kidneybeans',\n",
       "       'coconut', 'papaya', 'cotton', 'rice', 'coconut', 'chickpea',\n",
       "       'rice', 'blackgram', 'mungbean', 'jute', 'watermelon', 'chickpea',\n",
       "       'coffee', 'watermelon', 'banana', 'cotton', 'cotton', 'apple',\n",
       "       'mothbeans', 'lentil', 'blackgram', 'chickpea', 'apple',\n",
       "       'pomegranate', 'mungbean', 'coffee', 'banana', 'watermelon',\n",
       "       'papaya', 'coffee', 'mango', 'orange'], dtype=object)"
      ]
     },
     "execution_count": 79,
     "metadata": {},
     "output_type": "execute_result"
    }
   ],
   "source": [
    "y_pred=lr.predict(x_test)\n",
    "y_pred"
   ]
  },
  {
   "cell_type": "code",
   "execution_count": 81,
   "id": "82ef5664",
   "metadata": {},
   "outputs": [
    {
     "data": {
      "text/plain": [
       "array([[22,  0,  0,  0,  0,  0,  0,  0,  0,  0,  0,  0,  0,  0,  0,  0,\n",
       "         0,  0,  0,  0,  0,  0],\n",
       "       [ 0, 20,  0,  0,  0,  0,  0,  0,  0,  0,  0,  0,  0,  0,  0,  0,\n",
       "         0,  0,  0,  0,  0,  0],\n",
       "       [ 0,  0, 16,  0,  0,  0,  0,  0,  0,  0,  0,  1,  0,  2,  0,  0,\n",
       "         0,  0,  0,  0,  0,  0],\n",
       "       [ 0,  0,  0, 26,  0,  0,  0,  0,  0,  0,  0,  0,  0,  0,  0,  0,\n",
       "         0,  0,  0,  0,  0,  0],\n",
       "       [ 0,  0,  0,  0, 22,  0,  0,  0,  0,  0,  0,  0,  0,  0,  0,  0,\n",
       "         0,  0,  0,  1,  0,  0],\n",
       "       [ 0,  0,  0,  0,  0, 21,  0,  0,  0,  0,  0,  0,  0,  0,  0,  0,\n",
       "         0,  0,  0,  0,  0,  0],\n",
       "       [ 0,  0,  0,  0,  0,  0, 18,  0,  0,  0,  0,  2,  0,  0,  0,  0,\n",
       "         0,  0,  0,  0,  0,  0],\n",
       "       [ 0,  0,  0,  0,  0,  0,  0, 11,  0,  0,  0,  0,  0,  0,  0,  0,\n",
       "         0,  0,  0,  0,  0,  0],\n",
       "       [ 0,  0,  0,  0,  0,  1,  0,  0, 20,  0,  0,  0,  0,  0,  0,  0,\n",
       "         0,  1,  0,  0,  1,  0],\n",
       "       [ 0,  0,  0,  0,  0,  0,  0,  0,  0, 16,  0,  0,  0,  0,  0,  0,\n",
       "         0,  0,  0,  0,  0,  0],\n",
       "       [ 0,  0,  1,  0,  0,  0,  0,  0,  0,  0, 17,  0,  0,  0,  0,  0,\n",
       "         0,  0,  0,  0,  0,  0],\n",
       "       [ 0,  0,  0,  0,  0,  1,  1,  0,  0,  0,  0, 21,  0,  0,  0,  0,\n",
       "         0,  0,  0,  0,  0,  0],\n",
       "       [ 0,  0,  0,  0,  0,  0,  0,  0,  0,  0,  0,  0, 20,  0,  0,  0,\n",
       "         0,  0,  0,  0,  0,  0],\n",
       "       [ 0,  0,  0,  0,  0,  0,  0,  0,  0,  0,  3,  0,  0, 11,  1,  0,\n",
       "         0,  0,  1,  0,  0,  0],\n",
       "       [ 0,  0,  0,  0,  0,  0,  0,  0,  0,  0,  0,  0,  0,  0, 16,  0,\n",
       "         0,  0,  0,  0,  0,  0],\n",
       "       [ 0,  0,  0,  0,  0,  0,  0,  0,  0,  0,  0,  0,  0,  0,  0, 20,\n",
       "         0,  0,  0,  0,  0,  0],\n",
       "       [ 0,  0,  0,  0,  0,  0,  0,  0,  0,  0,  0,  0,  0,  0,  0,  0,\n",
       "        12,  0,  0,  0,  0,  0],\n",
       "       [ 0,  0,  0,  0,  1,  0,  0,  0,  1,  0,  0,  0,  0,  0,  0,  0,\n",
       "         0, 21,  0,  0,  0,  0],\n",
       "       [ 0,  0,  0,  0,  0,  0,  0,  0,  0,  0,  0,  0,  0,  0,  0,  0,\n",
       "         0,  0, 17,  0,  0,  0],\n",
       "       [ 0,  0,  0,  0,  0,  0,  0,  0,  0,  0,  0,  0,  0,  0,  0,  0,\n",
       "         0,  0,  0, 18,  0,  0],\n",
       "       [ 0,  0,  0,  0,  0,  0,  0,  0,  4,  0,  0,  0,  0,  0,  0,  0,\n",
       "         0,  0,  0,  0, 23,  0],\n",
       "       [ 0,  0,  0,  0,  0,  0,  0,  0,  0,  0,  0,  0,  0,  0,  0,  0,\n",
       "         0,  0,  0,  0,  0, 29]], dtype=int64)"
      ]
     },
     "execution_count": 81,
     "metadata": {},
     "output_type": "execute_result"
    }
   ],
   "source": [
    "confusion_matrix(y_test,y_pred)      # checking for accuracy"
   ]
  },
  {
   "cell_type": "markdown",
   "id": "89c6cdc8",
   "metadata": {},
   "source": [
    "## draw a chart with the help of confusion_matrix because i can not judge a numerical form data"
   ]
  },
  {
   "cell_type": "code",
   "execution_count": 89,
   "id": "645026d4",
   "metadata": {},
   "outputs": [
    {
     "data": {
      "image/png": "[encoded data removed]",
      "text/plain": [
       "<Figure size 720x288 with 2 Axes>"
      ]
     },
     "metadata": {},
     "output_type": "display_data"
    }
   ],
   "source": [
    "cm=confusion_matrix(y_test,y_pred)\n",
    "sns.heatmap(cm,annot=True,cmap=plt.cm.coolwarm)\n",
    "plt.title('confusion heatmap for logistic regression')\n",
    "plt.show()"
   ]
  },
  {
   "cell_type": "code",
   "execution_count": 90,
   "id": "71d6e6e6",
   "metadata": {},
   "outputs": [
    {
     "data": {
      "text/plain": [
       "(22, 22)"
      ]
     },
     "execution_count": 90,
     "metadata": {},
     "output_type": "execute_result"
    }
   ],
   "source": [
    "cm.shape"
   ]
  },
  {
   "cell_type": "markdown",
   "id": "2f40816c",
   "metadata": {},
   "source": [
    "## classification report for precision and recall\n",
    "it must become a good score"
   ]
  },
  {
   "cell_type": "code",
   "execution_count": 86,
   "id": "b1dfa3d8",
   "metadata": {},
   "outputs": [
    {
     "data": {
      "text/plain": [
       "'              precision    recall  f1-score   support\\n\\n       apple       1.00      1.00      1.00        22\\n      banana       1.00      1.00      1.00        20\\n   blackgram       0.94      0.84      0.89        19\\n    chickpea       1.00      1.00      1.00        26\\n     coconut       0.96      0.96      0.96        23\\n      coffee       0.91      1.00      0.95        21\\n      cotton       0.95      0.90      0.92        20\\n      grapes       1.00      1.00      1.00        11\\n        jute       0.80      0.87      0.83        23\\n kidneybeans       1.00      1.00      1.00        16\\n      lentil       0.85      0.94      0.89        18\\n       maize       0.88      0.91      0.89        23\\n       mango       1.00      1.00      1.00        20\\n   mothbeans       0.85      0.69      0.76        16\\n    mungbean       0.94      1.00      0.97        16\\n   muskmelon       1.00      1.00      1.00        20\\n      orange       1.00      1.00      1.00        12\\n      papaya       0.95      0.91      0.93        23\\n  pigeonpeas       0.94      1.00      0.97        17\\n pomegranate       0.95      1.00      0.97        18\\n        rice       0.96      0.85      0.90        27\\n  watermelon       1.00      1.00      1.00        29\\n\\n    accuracy                           0.95       440\\n   macro avg       0.95      0.95      0.95       440\\nweighted avg       0.95      0.95      0.95       440\\n'"
      ]
     },
     "execution_count": 86,
     "metadata": {},
     "output_type": "execute_result"
    }
   ],
   "source": [
    "classification_report(y_test,y_pred)\n",
    "# it is ruturns a string output if you want to show in a particular\n",
    "# format than you have to use print function for this string"
   ]
  },
  {
   "cell_type": "code",
   "execution_count": 88,
   "id": "f1891d2d",
   "metadata": {},
   "outputs": [
    {
     "name": "stdout",
     "output_type": "stream",
     "text": [
      "              precision    recall  f1-score   support\n",
      "\n",
      "       apple       1.00      1.00      1.00        22\n",
      "      banana       1.00      1.00      1.00        20\n",
      "   blackgram       0.94      0.84      0.89        19\n",
      "    chickpea       1.00      1.00      1.00        26\n",
      "     coconut       0.96      0.96      0.96        23\n",
      "      coffee       0.91      1.00      0.95        21\n",
      "      cotton       0.95      0.90      0.92        20\n",
      "      grapes       1.00      1.00      1.00        11\n",
      "        jute       0.80      0.87      0.83        23\n",
      " kidneybeans       1.00      1.00      1.00        16\n",
      "      lentil       0.85      0.94      0.89        18\n",
      "       maize       0.88      0.91      0.89        23\n",
      "       mango       1.00      1.00      1.00        20\n",
      "   mothbeans       0.85      0.69      0.76        16\n",
      "    mungbean       0.94      1.00      0.97        16\n",
      "   muskmelon       1.00      1.00      1.00        20\n",
      "      orange       1.00      1.00      1.00        12\n",
      "      papaya       0.95      0.91      0.93        23\n",
      "  pigeonpeas       0.94      1.00      0.97        17\n",
      " pomegranate       0.95      1.00      0.97        18\n",
      "        rice       0.96      0.85      0.90        27\n",
      "  watermelon       1.00      1.00      1.00        29\n",
      "\n",
      "    accuracy                           0.95       440\n",
      "   macro avg       0.95      0.95      0.95       440\n",
      "weighted avg       0.95      0.95      0.95       440\n",
      "\n"
     ]
    }
   ],
   "source": [
    "cp=classification_report(y_test,y_pred)\n",
    "print(cp)\n",
    "# precision and recall value have a good score"
   ]
  },
  {
   "cell_type": "code",
   "execution_count": 15,
   "id": "aa8a3931",
   "metadata": {},
   "outputs": [
    {
     "name": "stderr",
     "output_type": "stream",
     "text": [
      "<ipython-input-15-3c076653f3d2>:1: SettingWithCopyWarning: \n",
      "A value is trying to be set on a copy of a slice from a DataFrame.\n",
      "Try using .loc[row_indexer,col_indexer] = value instead\n",
      "\n",
      "See the caveats in the documentation: https://pandas.pydata.org/pandas-docs/stable/user_guide/indexing.html#returning-a-view-versus-a-copy\n",
      "  y_test['predicted_value']=lr.predict(x_test)\n"
     ]
    }
   ],
   "source": [
    "y_test['predicted_value']=lr.predict(x_test)"
   ]
  },
  {
   "cell_type": "code",
   "execution_count": 16,
   "id": "a458817a",
   "metadata": {},
   "outputs": [
    {
     "data": {
      "text/html": [
       "<div>\n",
       "<style scoped>\n",
       "    .dataframe tbody tr th:only-of-type {\n",
       "        vertical-align: middle;\n",
       "    }\n",
       "\n",
       "    .dataframe tbody tr th {\n",
       "        vertical-align: top;\n",
       "    }\n",
       "\n",
       "    .dataframe thead th {\n",
       "        text-align: right;\n",
       "    }\n",
       "</style>\n",
       "<table border=\"1\" class=\"dataframe\">\n",
       "  <thead>\n",
       "    <tr style=\"text-align: right;\">\n",
       "      <th></th>\n",
       "      <th>label</th>\n",
       "      <th>predicted_value</th>\n",
       "    </tr>\n",
       "  </thead>\n",
       "  <tbody>\n",
       "    <tr>\n",
       "      <th>1159</th>\n",
       "      <td>mango</td>\n",
       "      <td>mango</td>\n",
       "    </tr>\n",
       "    <tr>\n",
       "      <th>499</th>\n",
       "      <td>pigeonpeas</td>\n",
       "      <td>pigeonpeas</td>\n",
       "    </tr>\n",
       "    <tr>\n",
       "      <th>1609</th>\n",
       "      <td>orange</td>\n",
       "      <td>orange</td>\n",
       "    </tr>\n",
       "    <tr>\n",
       "      <th>1924</th>\n",
       "      <td>cotton</td>\n",
       "      <td>cotton</td>\n",
       "    </tr>\n",
       "    <tr>\n",
       "      <th>661</th>\n",
       "      <td>mungbean</td>\n",
       "      <td>mungbean</td>\n",
       "    </tr>\n",
       "    <tr>\n",
       "      <th>1839</th>\n",
       "      <td>coconut</td>\n",
       "      <td>coconut</td>\n",
       "    </tr>\n",
       "    <tr>\n",
       "      <th>475</th>\n",
       "      <td>pigeonpeas</td>\n",
       "      <td>pigeonpeas</td>\n",
       "    </tr>\n",
       "    <tr>\n",
       "      <th>141</th>\n",
       "      <td>maize</td>\n",
       "      <td>maize</td>\n",
       "    </tr>\n",
       "    <tr>\n",
       "      <th>1317</th>\n",
       "      <td>watermelon</td>\n",
       "      <td>watermelon</td>\n",
       "    </tr>\n",
       "    <tr>\n",
       "      <th>1107</th>\n",
       "      <td>mango</td>\n",
       "      <td>mango</td>\n",
       "    </tr>\n",
       "    <tr>\n",
       "      <th>1508</th>\n",
       "      <td>apple</td>\n",
       "      <td>apple</td>\n",
       "    </tr>\n",
       "    <tr>\n",
       "      <th>283</th>\n",
       "      <td>chickpea</td>\n",
       "      <td>chickpea</td>\n",
       "    </tr>\n",
       "    <tr>\n",
       "      <th>938</th>\n",
       "      <td>pomegranate</td>\n",
       "      <td>pomegranate</td>\n",
       "    </tr>\n",
       "    <tr>\n",
       "      <th>2129</th>\n",
       "      <td>coffee</td>\n",
       "      <td>coffee</td>\n",
       "    </tr>\n",
       "    <tr>\n",
       "      <th>1755</th>\n",
       "      <td>papaya</td>\n",
       "      <td>papaya</td>\n",
       "    </tr>\n",
       "    <tr>\n",
       "      <th>1293</th>\n",
       "      <td>grapes</td>\n",
       "      <td>grapes</td>\n",
       "    </tr>\n",
       "    <tr>\n",
       "      <th>1504</th>\n",
       "      <td>apple</td>\n",
       "      <td>apple</td>\n",
       "    </tr>\n",
       "    <tr>\n",
       "      <th>1873</th>\n",
       "      <td>coconut</td>\n",
       "      <td>coconut</td>\n",
       "    </tr>\n",
       "    <tr>\n",
       "      <th>1737</th>\n",
       "      <td>papaya</td>\n",
       "      <td>papaya</td>\n",
       "    </tr>\n",
       "    <tr>\n",
       "      <th>67</th>\n",
       "      <td>rice</td>\n",
       "      <td>rice</td>\n",
       "    </tr>\n",
       "  </tbody>\n",
       "</table>\n",
       "</div>"
      ],
      "text/plain": [
       "            label predicted_value\n",
       "1159        mango           mango\n",
       "499    pigeonpeas      pigeonpeas\n",
       "1609       orange          orange\n",
       "1924       cotton          cotton\n",
       "661      mungbean        mungbean\n",
       "1839      coconut         coconut\n",
       "475    pigeonpeas      pigeonpeas\n",
       "141         maize           maize\n",
       "1317   watermelon      watermelon\n",
       "1107        mango           mango\n",
       "1508        apple           apple\n",
       "283      chickpea        chickpea\n",
       "938   pomegranate     pomegranate\n",
       "2129       coffee          coffee\n",
       "1755       papaya          papaya\n",
       "1293       grapes          grapes\n",
       "1504        apple           apple\n",
       "1873      coconut         coconut\n",
       "1737       papaya          papaya\n",
       "67           rice            rice"
      ]
     },
     "execution_count": 16,
     "metadata": {},
     "output_type": "execute_result"
    }
   ],
   "source": [
    "y_test.head(20)"
   ]
  },
  {
   "cell_type": "code",
   "execution_count": 17,
   "id": "6b89ad1d",
   "metadata": {},
   "outputs": [
    {
     "data": {
      "text/plain": [
       "watermelon     29\n",
       "rice           27\n",
       "chickpea       26\n",
       "maize          23\n",
       "coconut        23\n",
       "jute           23\n",
       "papaya         23\n",
       "apple          22\n",
       "coffee         21\n",
       "banana         20\n",
       "mango          20\n",
       "cotton         20\n",
       "muskmelon      20\n",
       "blackgram      19\n",
       "lentil         18\n",
       "pomegranate    18\n",
       "pigeonpeas     17\n",
       "mothbeans      16\n",
       "mungbean       16\n",
       "kidneybeans    16\n",
       "orange         12\n",
       "grapes         11\n",
       "Name: label, dtype: int64"
      ]
     },
     "execution_count": 17,
     "metadata": {},
     "output_type": "execute_result"
    }
   ],
   "source": [
    "y_test['label'].value_counts()"
   ]
  },
  {
   "cell_type": "code",
   "execution_count": 18,
   "id": "45963b6a",
   "metadata": {},
   "outputs": [
    {
     "data": {
      "text/plain": [
       "watermelon     29\n",
       "chickpea       26\n",
       "jute           25\n",
       "maize          24\n",
       "rice           24\n",
       "coconut        23\n",
       "coffee         23\n",
       "papaya         22\n",
       "apple          22\n",
       "banana         20\n",
       "mango          20\n",
       "muskmelon      20\n",
       "lentil         20\n",
       "cotton         19\n",
       "pomegranate    19\n",
       "pigeonpeas     18\n",
       "mungbean       17\n",
       "blackgram      17\n",
       "kidneybeans    16\n",
       "mothbeans      13\n",
       "orange         12\n",
       "grapes         11\n",
       "Name: predicted_value, dtype: int64"
      ]
     },
     "execution_count": 18,
     "metadata": {},
     "output_type": "execute_result"
    }
   ],
   "source": [
    "y_test['predicted_value'].value_counts()"
   ]
  },
  {
   "cell_type": "code",
   "execution_count": 22,
   "id": "4e08b2e0",
   "metadata": {},
   "outputs": [
    {
     "data": {
      "text/plain": [
       "Text(0.5, 1.0, 'for original value')"
      ]
     },
     "execution_count": 22,
     "metadata": {},
     "output_type": "execute_result"
    },
    {
     "data": {
      "image/png": "[encoded data removed]",
      "text/plain": [
       "<Figure size 432x288 with 1 Axes>"
      ]
     },
     "metadata": {
      "needs_background": "light"
     },
     "output_type": "display_data"
    }
   ],
   "source": [
    "plt.bar(list(y_test['label'].value_counts().keys()),list(y_test['label'].value_counts().values))\n",
    "plt.title('for original value')"
   ]
  },
  {
   "cell_type": "code",
   "execution_count": 23,
   "id": "63ae0b84",
   "metadata": {},
   "outputs": [
    {
     "data": {
      "text/plain": [
       "Text(0.5, 1.0, 'for predicted  value')"
      ]
     },
     "execution_count": 23,
     "metadata": {},
     "output_type": "execute_result"
    },
    {
     "data": {
      "image/png": "[encoded data removed]",
      "text/plain": [
       "<Figure size 432x288 with 1 Axes>"
      ]
     },
     "metadata": {
      "needs_background": "light"
     },
     "output_type": "display_data"
    }
   ],
   "source": [
    "plt.bar(list(y_test['predicted_value'].value_counts().keys()),list(y_test['predicted_value'].value_counts().values))\n",
    "plt.title('for predicted  value')"
   ]
  },
  {
   "cell_type": "code",
   "execution_count": 24,
   "id": "302bce19",
   "metadata": {},
   "outputs": [
    {
     "data": {
      "text/plain": [
       "<matplotlib.collections.PathCollection at 0x1c260b1d580>"
      ]
     },
     "execution_count": 24,
     "metadata": {},
     "output_type": "execute_result"
    },
    {
     "data": {
      "image/png": "[encoded data removed]",
      "text/plain": [
       "<Figure size 432x288 with 1 Axes>"
      ]
     },
     "metadata": {
      "needs_background": "light"
     },
     "output_type": "display_data"
    }
   ],
   "source": [
    "plt.scatter(list(y_test['label'].value_counts().values),list(y_test['predicted_value'].value_counts().values))"
   ]
  },
  {
   "cell_type": "markdown",
   "id": "af81e1cd",
   "metadata": {},
   "source": [
    "# By using RandomForest algo..."
   ]
  },
  {
   "cell_type": "code",
   "execution_count": 94,
   "id": "0ddb1a78",
   "metadata": {},
   "outputs": [],
   "source": [
    "x=data.drop(columns=['label'],axis=1)\n",
    "y=data[['label']]"
   ]
  },
  {
   "cell_type": "code",
   "execution_count": 95,
   "id": "44312037",
   "metadata": {},
   "outputs": [],
   "source": [
    "x_train,x_test,y_train,y_test=train_test_split(x,y,test_size=0.2,random_state=31)"
   ]
  },
  {
   "cell_type": "code",
   "execution_count": 96,
   "id": "e451f907",
   "metadata": {},
   "outputs": [],
   "source": [
    "from sklearn.ensemble import RandomForestClassifier"
   ]
  },
  {
   "cell_type": "code",
   "execution_count": 97,
   "id": "88032b52",
   "metadata": {},
   "outputs": [],
   "source": [
    "rfr=RandomForestClassifier()"
   ]
  },
  {
   "cell_type": "code",
   "execution_count": 98,
   "id": "2dcf04d7",
   "metadata": {},
   "outputs": [
    {
     "name": "stderr",
     "output_type": "stream",
     "text": [
      "<ipython-input-98-3f392adc2e88>:1: DataConversionWarning: A column-vector y was passed when a 1d array was expected. Please change the shape of y to (n_samples,), for example using ravel().\n",
      "  rfr.fit(x_train,y_train)\n"
     ]
    },
    {
     "data": {
      "text/plain": [
       "RandomForestClassifier()"
      ]
     },
     "execution_count": 98,
     "metadata": {},
     "output_type": "execute_result"
    }
   ],
   "source": [
    "rfr.fit(x_train,y_train)"
   ]
  },
  {
   "cell_type": "markdown",
   "id": "34ad0407",
   "metadata": {},
   "source": [
    "😊😊😊😊"
   ]
  },
  {
   "cell_type": "code",
   "execution_count": 99,
   "id": "bc6fd16c",
   "metadata": {},
   "outputs": [
    {
     "data": {
      "text/plain": [
       "0.9886363636363636"
      ]
     },
     "execution_count": 99,
     "metadata": {},
     "output_type": "execute_result"
    }
   ],
   "source": [
    "rfr.score(x_test,y_test)            # superb accuracy"
   ]
  },
  {
   "cell_type": "markdown",
   "id": "d50659f0",
   "metadata": {},
   "source": [
    "# by using Decision Tree"
   ]
  },
  {
   "cell_type": "code",
   "execution_count": 31,
   "id": "a8827f78",
   "metadata": {},
   "outputs": [],
   "source": [
    "from sklearn.tree import DecisionTreeClassifier"
   ]
  },
  {
   "cell_type": "code",
   "execution_count": 32,
   "id": "906a7b71",
   "metadata": {},
   "outputs": [],
   "source": [
    "dtc=DecisionTreeClassifier()"
   ]
  },
  {
   "cell_type": "code",
   "execution_count": 34,
   "id": "8137980d",
   "metadata": {},
   "outputs": [
    {
     "data": {
      "text/plain": [
       "DecisionTreeClassifier()"
      ]
     },
     "execution_count": 34,
     "metadata": {},
     "output_type": "execute_result"
    }
   ],
   "source": [
    "dtc.fit(x_train,y_train)"
   ]
  },
  {
   "cell_type": "code",
   "execution_count": 35,
   "id": "ddf53c9e",
   "metadata": {},
   "outputs": [
    {
     "data": {
      "text/plain": [
       "0.9840909090909091"
      ]
     },
     "execution_count": 35,
     "metadata": {},
     "output_type": "execute_result"
    }
   ],
   "source": [
    "dtc.score(x_test,y_test)              #by using decisiontree"
   ]
  },
  {
   "cell_type": "code",
   "execution_count": null,
   "id": "a7437075",
   "metadata": {},
   "outputs": [],
   "source": []
  },
  {
   "cell_type": "code",
   "execution_count": 39,
   "id": "d82fc15d",
   "metadata": {},
   "outputs": [],
   "source": [
    "from sklearn.neighbors import KNeighborsClassifier"
   ]
  },
  {
   "cell_type": "code",
   "execution_count": 40,
   "id": "ebc4e0b4",
   "metadata": {},
   "outputs": [
    {
     "name": "stderr",
     "output_type": "stream",
     "text": [
      "c:\\users\\dell\\appdata\\local\\programs\\python\\python39\\lib\\site-packages\\sklearn\\neighbors\\_classification.py:179: DataConversionWarning: A column-vector y was passed when a 1d array was expected. Please change the shape of y to (n_samples,), for example using ravel().\n",
      "  return self._fit(X, y)\n"
     ]
    },
    {
     "data": {
      "text/plain": [
       "0.9840909090909091"
      ]
     },
     "execution_count": 40,
     "metadata": {},
     "output_type": "execute_result"
    }
   ],
   "source": [
    "knn=KNeighborsClassifier()\n",
    "knn.fit(x_train,y_train)\n",
    "knn.score(x_test,y_test)                    # its a good accuracy"
   ]
  },
  {
   "cell_type": "code",
   "execution_count": null,
   "id": "b6faafe2",
   "metadata": {},
   "outputs": [],
   "source": []
  },
  {
   "cell_type": "code",
   "execution_count": 41,
   "id": "84d8ebdf",
   "metadata": {},
   "outputs": [
    {
     "name": "stderr",
     "output_type": "stream",
     "text": [
      "c:\\users\\dell\\appdata\\local\\programs\\python\\python39\\lib\\site-packages\\sklearn\\utils\\validation.py:63: DataConversionWarning: A column-vector y was passed when a 1d array was expected. Please change the shape of y to (n_samples, ), for example using ravel().\n",
      "  return f(*args, **kwargs)\n"
     ]
    },
    {
     "data": {
      "text/plain": [
       "0.975"
      ]
     },
     "execution_count": 41,
     "metadata": {},
     "output_type": "execute_result"
    }
   ],
   "source": [
    "from sklearn.svm import SVC\n",
    "svc=SVC()\n",
    "svc.fit(x_train,y_train)\n",
    "svc.score(x_test,y_test)"
   ]
  },
  {
   "cell_type": "code",
   "execution_count": 42,
   "id": "08a0bf17",
   "metadata": {},
   "outputs": [
    {
     "name": "stderr",
     "output_type": "stream",
     "text": [
      "c:\\users\\dell\\appdata\\local\\programs\\python\\python39\\lib\\site-packages\\sklearn\\utils\\validation.py:63: DataConversionWarning: A column-vector y was passed when a 1d array was expected. Please change the shape of y to (n_samples, ), for example using ravel().\n",
      "  return f(*args, **kwargs)\n"
     ]
    },
    {
     "data": {
      "text/plain": [
       "0.9977272727272727"
      ]
     },
     "execution_count": 42,
     "metadata": {},
     "output_type": "execute_result"
    }
   ],
   "source": [
    "from sklearn.naive_bayes import GaussianNB\n",
    "gnb=GaussianNB()\n",
    "gnb.fit(x_train,y_train)\n",
    "gnb.score(x_test,y_test)                                 # good accuracy by using naive_bayes"
   ]
  },
  {
   "cell_type": "code",
   "execution_count": null,
   "id": "ac9777fc",
   "metadata": {},
   "outputs": [],
   "source": []
  },
  {
   "cell_type": "code",
   "execution_count": 43,
   "id": "04a8e559",
   "metadata": {},
   "outputs": [
    {
     "name": "stderr",
     "output_type": "stream",
     "text": [
      "c:\\users\\dell\\appdata\\local\\programs\\python\\python39\\lib\\site-packages\\sklearn\\utils\\validation.py:63: DataConversionWarning: A column-vector y was passed when a 1d array was expected. Please change the shape of y to (n_samples, ), for example using ravel().\n",
      "  return f(*args, **kwargs)\n"
     ]
    },
    {
     "data": {
      "text/plain": [
       "0.8886363636363637"
      ]
     },
     "execution_count": 43,
     "metadata": {},
     "output_type": "execute_result"
    }
   ],
   "source": [
    "from sklearn.naive_bayes import MultinomialNB\n",
    "mnb=MultinomialNB()\n",
    "mnb.fit(x_train,y_train)\n",
    "mnb.score(x_test,y_test)                                "
   ]
  },
  {
   "cell_type": "code",
   "execution_count": null,
   "id": "9ccbb539",
   "metadata": {},
   "outputs": [],
   "source": []
  },
  {
   "cell_type": "code",
   "execution_count": 44,
   "id": "eb27d8e8",
   "metadata": {},
   "outputs": [
    {
     "name": "stderr",
     "output_type": "stream",
     "text": [
      "c:\\users\\dell\\appdata\\local\\programs\\python\\python39\\lib\\site-packages\\sklearn\\utils\\validation.py:63: DataConversionWarning: A column-vector y was passed when a 1d array was expected. Please change the shape of y to (n_samples, ), for example using ravel().\n",
      "  return f(*args, **kwargs)\n"
     ]
    },
    {
     "data": {
      "text/plain": [
       "0.02727272727272727"
      ]
     },
     "execution_count": 44,
     "metadata": {},
     "output_type": "execute_result"
    }
   ],
   "source": [
    "from sklearn.naive_bayes import BernoulliNB\n",
    "bnb=BernoulliNB()\n",
    "bnb.fit(x_train,y_train)\n",
    "bnb.score(x_test,y_test) "
   ]
  },
  {
   "cell_type": "code",
   "execution_count": 45,
   "id": "8f299782",
   "metadata": {},
   "outputs": [
    {
     "data": {
      "text/plain": [
       "0.02727272727272727"
      ]
     },
     "execution_count": 45,
     "metadata": {},
     "output_type": "execute_result"
    }
   ],
   "source": [
    "lr.score(x_test,y_test) \n",
    "rfr.score(x_test,y_test)  \n",
    "dtc.score(x_test,y_test) \n",
    "knn.score(x_test,y_test)\n",
    "svc.score(x_test,y_test)\n",
    "gnb.score(x_test,y_test)\n",
    "mnb.score(x_test,y_test) \n",
    "bnb.score(x_test,y_test) "
   ]
  },
  {
   "cell_type": "code",
   "execution_count": 46,
   "id": "b7be656e",
   "metadata": {},
   "outputs": [
    {
     "data": {
      "text/plain": [
       "[0.9477272727272728,\n",
       " 0.990909090909091,\n",
       " 0.9840909090909091,\n",
       " 0.9840909090909091,\n",
       " 0.975,\n",
       " 0.9977272727272727,\n",
       " 0.8886363636363637,\n",
       " 0.02727272727272727]"
      ]
     },
     "execution_count": 46,
     "metadata": {},
     "output_type": "execute_result"
    }
   ],
   "source": [
    "[lr.score(x_test,y_test),rfr.score(x_test,y_test),dtc.score(x_test,y_test),knn.score(x_test,y_test),svc.score(x_test,y_test),gnb.score(x_test,y_test),mnb.score(x_test,y_test),bnb.score(x_test,y_test)  \n",
    "\n",
    ",\n",
    "\n",
    "\n",
    "  \n",
    "\n",
    "]"
   ]
  },
  {
   "cell_type": "code",
   "execution_count": 48,
   "id": "8d4bb7f1",
   "metadata": {},
   "outputs": [
    {
     "data": {
      "text/plain": [
       "0.9977272727272727"
      ]
     },
     "execution_count": 48,
     "metadata": {},
     "output_type": "execute_result"
    }
   ],
   "source": [
    "gnb.score(x_test,y_test)           # this is our best model \n",
    "# so i will go  to save this model"
   ]
  },
  {
   "cell_type": "code",
   "execution_count": 49,
   "id": "7611dd1a",
   "metadata": {},
   "outputs": [],
   "source": [
    "import pickle"
   ]
  },
  {
   "cell_type": "code",
   "execution_count": 50,
   "id": "64757ea9",
   "metadata": {},
   "outputs": [],
   "source": [
    "pickle.dump(gnb,open('farmer_guidence_model_with_99.77%_accuracy.pkl','wb'))"
   ]
  },
  {
   "cell_type": "code",
   "execution_count": 51,
   "id": "a340d57e",
   "metadata": {},
   "outputs": [],
   "source": [
    "model=pickle.load(open('farmer_guidence_model_with_99.77%_accuracy.pkl','rb'))"
   ]
  },
  {
   "cell_type": "code",
   "execution_count": 52,
   "id": "13eef55b",
   "metadata": {},
   "outputs": [
    {
     "data": {
      "text/plain": [
       "array(['mango', 'pigeonpeas', 'orange', 'cotton', 'mungbean', 'coconut',\n",
       "       'pigeonpeas', 'maize', 'watermelon', 'mango', 'apple', 'chickpea',\n",
       "       'pomegranate', 'coffee', 'papaya', 'grapes', 'apple', 'coconut',\n",
       "       'papaya', 'rice', 'jute', 'grapes', 'lentil', 'cotton', 'maize',\n",
       "       'coconut', 'pomegranate', 'mango', 'watermelon', 'jute', 'coconut',\n",
       "       'kidneybeans', 'banana', 'coconut', 'rice', 'pomegranate',\n",
       "       'blackgram', 'blackgram', 'pomegranate', 'jute', 'rice', 'lentil',\n",
       "       'papaya', 'pomegranate', 'kidneybeans', 'mungbean', 'chickpea',\n",
       "       'watermelon', 'lentil', 'coconut', 'mango', 'apple', 'grapes',\n",
       "       'blackgram', 'maize', 'muskmelon', 'mungbean', 'muskmelon',\n",
       "       'muskmelon', 'pomegranate', 'kidneybeans', 'lentil', 'rice',\n",
       "       'coconut', 'pigeonpeas', 'rice', 'grapes', 'coconut', 'coffee',\n",
       "       'maize', 'jute', 'pigeonpeas', 'mango', 'rice', 'rice',\n",
       "       'muskmelon', 'rice', 'jute', 'cotton', 'banana', 'coconut',\n",
       "       'mothbeans', 'cotton', 'orange', 'mungbean', 'apple', 'papaya',\n",
       "       'papaya', 'jute', 'coconut', 'blackgram', 'orange', 'rice',\n",
       "       'muskmelon', 'chickpea', 'mungbean', 'grapes', 'mungbean',\n",
       "       'coffee', 'jute', 'mango', 'apple', 'banana', 'cotton', 'cotton',\n",
       "       'rice', 'cotton', 'watermelon', 'mothbeans', 'kidneybeans',\n",
       "       'muskmelon', 'lentil', 'watermelon', 'apple', 'watermelon',\n",
       "       'cotton', 'muskmelon', 'apple', 'muskmelon', 'jute', 'mango',\n",
       "       'maize', 'blackgram', 'papaya', 'rice', 'coffee', 'apple',\n",
       "       'coffee', 'lentil', 'kidneybeans', 'lentil', 'cotton', 'grapes',\n",
       "       'mothbeans', 'mango', 'apple', 'chickpea', 'cotton', 'banana',\n",
       "       'pomegranate', 'watermelon', 'chickpea', 'coffee', 'papaya',\n",
       "       'muskmelon', 'banana', 'watermelon', 'coconut', 'muskmelon',\n",
       "       'chickpea', 'apple', 'jute', 'lentil', 'pigeonpeas', 'cotton',\n",
       "       'mango', 'cotton', 'pomegranate', 'pomegranate', 'maize',\n",
       "       'blackgram', 'coffee', 'papaya', 'papaya', 'chickpea',\n",
       "       'pigeonpeas', 'mungbean', 'apple', 'chickpea', 'watermelon',\n",
       "       'watermelon', 'jute', 'jute', 'papaya', 'blackgram', 'chickpea',\n",
       "       'watermelon', 'banana', 'kidneybeans', 'kidneybeans', 'lentil',\n",
       "       'coconut', 'muskmelon', 'coconut', 'maize', 'kidneybeans',\n",
       "       'pigeonpeas', 'coffee', 'coffee', 'chickpea', 'mungbean', 'banana',\n",
       "       'pomegranate', 'watermelon', 'jute', 'banana', 'coconut', 'maize',\n",
       "       'lentil', 'watermelon', 'chickpea', 'jute', 'mungbean',\n",
       "       'mothbeans', 'papaya', 'watermelon', 'jute', 'rice', 'jute',\n",
       "       'watermelon', 'muskmelon', 'banana', 'mango', 'cotton', 'apple',\n",
       "       'watermelon', 'kidneybeans', 'watermelon', 'apple', 'lentil',\n",
       "       'maize', 'coffee', 'apple', 'grapes', 'chickpea', 'muskmelon',\n",
       "       'apple', 'banana', 'watermelon', 'maize', 'muskmelon', 'banana',\n",
       "       'kidneybeans', 'lentil', 'jute', 'maize', 'pomegranate', 'grapes',\n",
       "       'coffee', 'kidneybeans', 'orange', 'cotton', 'chickpea', 'rice',\n",
       "       'jute', 'jute', 'orange', 'cotton', 'pigeonpeas', 'blackgram',\n",
       "       'coffee', 'mungbean', 'coffee', 'rice', 'orange', 'papaya',\n",
       "       'mothbeans', 'maize', 'lentil', 'banana', 'mothbeans', 'maize',\n",
       "       'lentil', 'mungbean', 'watermelon', 'coconut', 'lentil',\n",
       "       'blackgram', 'coconut', 'muskmelon', 'grapes', 'grapes', 'apple',\n",
       "       'coconut', 'blackgram', 'chickpea', 'jute', 'kidneybeans',\n",
       "       'blackgram', 'lentil', 'papaya', 'mothbeans', 'coconut',\n",
       "       'muskmelon', 'blackgram', 'pigeonpeas', 'muskmelon', 'mungbean',\n",
       "       'coffee', 'jute', 'watermelon', 'maize', 'coconut', 'papaya',\n",
       "       'coconut', 'blackgram', 'orange', 'pigeonpeas', 'maize', 'apple',\n",
       "       'mothbeans', 'blackgram', 'orange', 'lentil', 'apple', 'mango',\n",
       "       'apple', 'kidneybeans', 'chickpea', 'pigeonpeas', 'chickpea',\n",
       "       'maize', 'mothbeans', 'maize', 'pomegranate', 'coffee', 'maize',\n",
       "       'pigeonpeas', 'mango', 'papaya', 'maize', 'pomegranate', 'orange',\n",
       "       'watermelon', 'banana', 'watermelon', 'rice', 'banana', 'banana',\n",
       "       'jute', 'mango', 'chickpea', 'mothbeans', 'blackgram', 'banana',\n",
       "       'pigeonpeas', 'mothbeans', 'chickpea', 'pomegranate', 'muskmelon',\n",
       "       'rice', 'rice', 'chickpea', 'papaya', 'watermelon', 'rice',\n",
       "       'mango', 'rice', 'orange', 'maize', 'coffee', 'mango', 'papaya',\n",
       "       'muskmelon', 'mango', 'rice', 'coconut', 'watermelon', 'blackgram',\n",
       "       'mungbean', 'mango', 'watermelon', 'chickpea', 'cotton',\n",
       "       'mungbean', 'pigeonpeas', 'mothbeans', 'chickpea', 'mothbeans',\n",
       "       'pigeonpeas', 'chickpea', 'mango', 'muskmelon', 'banana', 'apple',\n",
       "       'rice', 'orange', 'cotton', 'pigeonpeas', 'pomegranate',\n",
       "       'watermelon', 'blackgram', 'maize', 'maize', 'grapes',\n",
       "       'pigeonpeas', 'papaya', 'kidneybeans', 'pomegranate', 'coffee',\n",
       "       'papaya', 'banana', 'rice', 'papaya', 'rice', 'lentil', 'jute',\n",
       "       'mothbeans', 'chickpea', 'kidneybeans', 'pomegranate', 'papaya',\n",
       "       'rice', 'coffee', 'cotton', 'jute', 'mango', 'kidneybeans',\n",
       "       'coconut', 'papaya', 'cotton', 'rice', 'coconut', 'chickpea',\n",
       "       'rice', 'blackgram', 'mungbean', 'jute', 'watermelon', 'chickpea',\n",
       "       'coffee', 'watermelon', 'banana', 'cotton', 'maize', 'apple',\n",
       "       'mothbeans', 'mothbeans', 'blackgram', 'chickpea', 'apple',\n",
       "       'pomegranate', 'mungbean', 'coffee', 'banana', 'watermelon',\n",
       "       'papaya', 'coffee', 'mango', 'orange'], dtype='<U11')"
      ]
     },
     "execution_count": 52,
     "metadata": {},
     "output_type": "execute_result"
    }
   ],
   "source": [
    "model.predict(x_test)"
   ]
  },
  {
   "cell_type": "code",
   "execution_count": 54,
   "id": "8c469f32",
   "metadata": {},
   "outputs": [
    {
     "name": "stderr",
     "output_type": "stream",
     "text": [
      "<ipython-input-54-22e6ef73ba12>:1: SettingWithCopyWarning: \n",
      "A value is trying to be set on a copy of a slice from a DataFrame.\n",
      "Try using .loc[row_indexer,col_indexer] = value instead\n",
      "\n",
      "See the caveats in the documentation: https://pandas.pydata.org/pandas-docs/stable/user_guide/indexing.html#returning-a-view-versus-a-copy\n",
      "  y_test['predicted_value']=model.predict(x_test)\n"
     ]
    }
   ],
   "source": [
    "y_test['predicted_value']=model.predict(x_test)"
   ]
  },
  {
   "cell_type": "code",
   "execution_count": 57,
   "id": "c808c139",
   "metadata": {},
   "outputs": [
    {
     "data": {
      "text/html": [
       "<div>\n",
       "<style scoped>\n",
       "    .dataframe tbody tr th:only-of-type {\n",
       "        vertical-align: middle;\n",
       "    }\n",
       "\n",
       "    .dataframe tbody tr th {\n",
       "        vertical-align: top;\n",
       "    }\n",
       "\n",
       "    .dataframe thead th {\n",
       "        text-align: right;\n",
       "    }\n",
       "</style>\n",
       "<table border=\"1\" class=\"dataframe\">\n",
       "  <thead>\n",
       "    <tr style=\"text-align: right;\">\n",
       "      <th></th>\n",
       "      <th>label</th>\n",
       "      <th>predicted_value</th>\n",
       "    </tr>\n",
       "  </thead>\n",
       "  <tbody>\n",
       "    <tr>\n",
       "      <th>1159</th>\n",
       "      <td>mango</td>\n",
       "      <td>mango</td>\n",
       "    </tr>\n",
       "    <tr>\n",
       "      <th>499</th>\n",
       "      <td>pigeonpeas</td>\n",
       "      <td>pigeonpeas</td>\n",
       "    </tr>\n",
       "    <tr>\n",
       "      <th>1609</th>\n",
       "      <td>orange</td>\n",
       "      <td>orange</td>\n",
       "    </tr>\n",
       "    <tr>\n",
       "      <th>1924</th>\n",
       "      <td>cotton</td>\n",
       "      <td>cotton</td>\n",
       "    </tr>\n",
       "    <tr>\n",
       "      <th>661</th>\n",
       "      <td>mungbean</td>\n",
       "      <td>mungbean</td>\n",
       "    </tr>\n",
       "  </tbody>\n",
       "</table>\n",
       "</div>"
      ],
      "text/plain": [
       "           label predicted_value\n",
       "1159       mango           mango\n",
       "499   pigeonpeas      pigeonpeas\n",
       "1609      orange          orange\n",
       "1924      cotton          cotton\n",
       "661     mungbean        mungbean"
      ]
     },
     "execution_count": 57,
     "metadata": {},
     "output_type": "execute_result"
    }
   ],
   "source": [
    "y_test.head()"
   ]
  },
  {
   "cell_type": "code",
   "execution_count": 58,
   "id": "604870fe",
   "metadata": {},
   "outputs": [
    {
     "data": {
      "text/plain": [
       "watermelon     29\n",
       "rice           27\n",
       "chickpea       26\n",
       "maize          23\n",
       "coconut        23\n",
       "jute           23\n",
       "papaya         23\n",
       "apple          22\n",
       "coffee         21\n",
       "banana         20\n",
       "mango          20\n",
       "cotton         20\n",
       "muskmelon      20\n",
       "blackgram      19\n",
       "lentil         18\n",
       "pomegranate    18\n",
       "pigeonpeas     17\n",
       "mothbeans      16\n",
       "mungbean       16\n",
       "kidneybeans    16\n",
       "orange         12\n",
       "grapes         11\n",
       "Name: label, dtype: int64"
      ]
     },
     "execution_count": 58,
     "metadata": {},
     "output_type": "execute_result"
    }
   ],
   "source": [
    "y_test['label'].value_counts()"
   ]
  },
  {
   "cell_type": "code",
   "execution_count": 59,
   "id": "a29b3451",
   "metadata": {},
   "outputs": [
    {
     "data": {
      "text/plain": [
       "watermelon     29\n",
       "chickpea       26\n",
       "rice           26\n",
       "jute           24\n",
       "maize          23\n",
       "coconut        23\n",
       "papaya         23\n",
       "apple          22\n",
       "coffee         21\n",
       "banana         20\n",
       "mango          20\n",
       "cotton         20\n",
       "muskmelon      20\n",
       "blackgram      19\n",
       "lentil         18\n",
       "pomegranate    18\n",
       "pigeonpeas     17\n",
       "mothbeans      16\n",
       "mungbean       16\n",
       "kidneybeans    16\n",
       "orange         12\n",
       "grapes         11\n",
       "Name: predicted_value, dtype: int64"
      ]
     },
     "execution_count": 59,
     "metadata": {},
     "output_type": "execute_result"
    }
   ],
   "source": [
    "y_test['predicted_value'].value_counts()"
   ]
  },
  {
   "cell_type": "code",
   "execution_count": 61,
   "id": "47b2f5d5",
   "metadata": {},
   "outputs": [
    {
     "data": {
      "text/html": [
       "<div>\n",
       "<style scoped>\n",
       "    .dataframe tbody tr th:only-of-type {\n",
       "        vertical-align: middle;\n",
       "    }\n",
       "\n",
       "    .dataframe tbody tr th {\n",
       "        vertical-align: top;\n",
       "    }\n",
       "\n",
       "    .dataframe thead th {\n",
       "        text-align: right;\n",
       "    }\n",
       "</style>\n",
       "<table border=\"1\" class=\"dataframe\">\n",
       "  <thead>\n",
       "    <tr style=\"text-align: right;\">\n",
       "      <th></th>\n",
       "      <th>label</th>\n",
       "      <th>predicted_value</th>\n",
       "    </tr>\n",
       "  </thead>\n",
       "  <tbody>\n",
       "    <tr>\n",
       "      <th>1159</th>\n",
       "      <td>mango</td>\n",
       "      <td>mango</td>\n",
       "    </tr>\n",
       "    <tr>\n",
       "      <th>499</th>\n",
       "      <td>pigeonpeas</td>\n",
       "      <td>pigeonpeas</td>\n",
       "    </tr>\n",
       "    <tr>\n",
       "      <th>1609</th>\n",
       "      <td>orange</td>\n",
       "      <td>orange</td>\n",
       "    </tr>\n",
       "    <tr>\n",
       "      <th>1924</th>\n",
       "      <td>cotton</td>\n",
       "      <td>cotton</td>\n",
       "    </tr>\n",
       "    <tr>\n",
       "      <th>661</th>\n",
       "      <td>mungbean</td>\n",
       "      <td>mungbean</td>\n",
       "    </tr>\n",
       "    <tr>\n",
       "      <th>1839</th>\n",
       "      <td>coconut</td>\n",
       "      <td>coconut</td>\n",
       "    </tr>\n",
       "    <tr>\n",
       "      <th>475</th>\n",
       "      <td>pigeonpeas</td>\n",
       "      <td>pigeonpeas</td>\n",
       "    </tr>\n",
       "    <tr>\n",
       "      <th>141</th>\n",
       "      <td>maize</td>\n",
       "      <td>maize</td>\n",
       "    </tr>\n",
       "    <tr>\n",
       "      <th>1317</th>\n",
       "      <td>watermelon</td>\n",
       "      <td>watermelon</td>\n",
       "    </tr>\n",
       "    <tr>\n",
       "      <th>1107</th>\n",
       "      <td>mango</td>\n",
       "      <td>mango</td>\n",
       "    </tr>\n",
       "    <tr>\n",
       "      <th>1508</th>\n",
       "      <td>apple</td>\n",
       "      <td>apple</td>\n",
       "    </tr>\n",
       "    <tr>\n",
       "      <th>283</th>\n",
       "      <td>chickpea</td>\n",
       "      <td>chickpea</td>\n",
       "    </tr>\n",
       "    <tr>\n",
       "      <th>938</th>\n",
       "      <td>pomegranate</td>\n",
       "      <td>pomegranate</td>\n",
       "    </tr>\n",
       "    <tr>\n",
       "      <th>2129</th>\n",
       "      <td>coffee</td>\n",
       "      <td>coffee</td>\n",
       "    </tr>\n",
       "    <tr>\n",
       "      <th>1755</th>\n",
       "      <td>papaya</td>\n",
       "      <td>papaya</td>\n",
       "    </tr>\n",
       "    <tr>\n",
       "      <th>1293</th>\n",
       "      <td>grapes</td>\n",
       "      <td>grapes</td>\n",
       "    </tr>\n",
       "    <tr>\n",
       "      <th>1504</th>\n",
       "      <td>apple</td>\n",
       "      <td>apple</td>\n",
       "    </tr>\n",
       "    <tr>\n",
       "      <th>1873</th>\n",
       "      <td>coconut</td>\n",
       "      <td>coconut</td>\n",
       "    </tr>\n",
       "    <tr>\n",
       "      <th>1737</th>\n",
       "      <td>papaya</td>\n",
       "      <td>papaya</td>\n",
       "    </tr>\n",
       "    <tr>\n",
       "      <th>67</th>\n",
       "      <td>rice</td>\n",
       "      <td>rice</td>\n",
       "    </tr>\n",
       "  </tbody>\n",
       "</table>\n",
       "</div>"
      ],
      "text/plain": [
       "            label predicted_value\n",
       "1159        mango           mango\n",
       "499    pigeonpeas      pigeonpeas\n",
       "1609       orange          orange\n",
       "1924       cotton          cotton\n",
       "661      mungbean        mungbean\n",
       "1839      coconut         coconut\n",
       "475    pigeonpeas      pigeonpeas\n",
       "141         maize           maize\n",
       "1317   watermelon      watermelon\n",
       "1107        mango           mango\n",
       "1508        apple           apple\n",
       "283      chickpea        chickpea\n",
       "938   pomegranate     pomegranate\n",
       "2129       coffee          coffee\n",
       "1755       papaya          papaya\n",
       "1293       grapes          grapes\n",
       "1504        apple           apple\n",
       "1873      coconut         coconut\n",
       "1737       papaya          papaya\n",
       "67           rice            rice"
      ]
     },
     "execution_count": 61,
     "metadata": {},
     "output_type": "execute_result"
    }
   ],
   "source": [
    "y_test.head(20)"
   ]
  },
  {
   "cell_type": "markdown",
   "id": "fca8c2ec",
   "metadata": {},
   "source": [
    "# THANK YOU 🤞😎✌🌹"
   ]
  }
 ],
 "metadata": {
  "kernelspec": {
   "display_name": "Python 3",
   "language": "python",
   "name": "python3"
  },
  "language_info": {
   "codemirror_mode": {
    "name": "ipython",
    "version": 3
   },
   "file_extension": ".py",
   "mimetype": "text/x-python",
   "name": "python",
   "nbconvert_exporter": "python",
   "pygments_lexer": "ipython3",
   "version": "3.9.2"
  }
 },
 "nbformat": 4,
 "nbformat_minor": 5
}
